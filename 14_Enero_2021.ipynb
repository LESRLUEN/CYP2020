{
  "nbformat": 4,
  "nbformat_minor": 0,
  "metadata": {
    "colab": {
      "name": "14_Enero_2021.ipynb",
      "provenance": [],
      "authorship_tag": "ABX9TyOy9imhrYq+Npkjyuxzkkgb",
      "include_colab_link": true
    },
    "kernelspec": {
      "name": "python3",
      "display_name": "Python 3"
    }
  },
  "cells": [
    {
      "cell_type": "markdown",
      "metadata": {
        "id": "view-in-github",
        "colab_type": "text"
      },
      "source": [
        "<a href=\"https://colab.research.google.com/github/LESRLUEN/CYP2020/blob/main/14_Enero_2021.ipynb\" target=\"_parent\"><img src=\"https://colab.research.google.com/assets/colab-badge.svg\" alt=\"Open In Colab\"/></a>"
      ]
    },
    {
      "cell_type": "markdown",
      "metadata": {
        "id": "GQLi2IeE5xTh"
      },
      "source": [
        "# Palabras reservadas de Python 3\r\n",
        "\r\n"
      ]
    },
    {
      "cell_type": "code",
      "metadata": {
        "colab": {
          "base_uri": "https://localhost:8080/"
        },
        "id": "bLQM2qW-5qnK",
        "outputId": "677d7b3d-0a35-49f9-b740-792230e5c752"
      },
      "source": [
        "import keyword\r\n",
        "pr = keyword.kwlist\r\n",
        "print( len(pr))\r\n",
        "for palabra in pr :\r\n",
        "  print(palabra , end=\",\")"
      ],
      "execution_count": 3,
      "outputs": [
        {
          "output_type": "stream",
          "text": [
            "33\n",
            "False,None,True,and,as,assert,break,class,continue,def,del,elif,else,except,finally,for,from,global,if,import,in,is,lambda,nonlocal,not,or,pass,raise,return,try,while,with,yield,"
          ],
          "name": "stdout"
        }
      ]
    },
    {
      "cell_type": "code",
      "metadata": {
        "colab": {
          "base_uri": "https://localhost:8080/"
        },
        "id": "lR9l3EG56zBf",
        "outputId": "d048ddfe-fc29-48bc-a521-40b49d123719"
      },
      "source": [
        "import keyword\r\n",
        "pr = keyword.kwlist\r\n",
        "print( len(pr))\r\n",
        "for palabra in pr :\r\n",
        "  print(\"1.\", palabra , end=\",\")"
      ],
      "execution_count": 5,
      "outputs": [
        {
          "output_type": "stream",
          "text": [
            "33\n",
            "1. False,1. None,1. True,1. and,1. as,1. assert,1. break,1. class,1. continue,1. def,1. del,1. elif,1. else,1. except,1. finally,1. for,1. from,1. global,1. if,1. import,1. in,1. is,1. lambda,1. nonlocal,1. not,1. or,1. pass,1. raise,1. return,1. try,1. while,1. with,1. yield,"
          ],
          "name": "stdout"
        }
      ]
    },
    {
      "cell_type": "markdown",
      "metadata": {
        "id": "81IKOuip7CJ9"
      },
      "source": [
        "## Variable\r\n",
        "Es un espacio de memoria de la\r\n",
        " computadora para almacenar valores que \r\n",
        " cambian a lo largo de la ejecucion del\r\n",
        "programa. Este espacio de memoria esta\r\n",
        "referenciado por un identidicardor, el\r\n",
        "cual tienen ciertas reglas de nombrado\r\n",
        "\r\n",
        "- No puede iniciar con numero\r\n",
        "- No debe ser igual a alguna de\r\n",
        " las palabras reservadas\r\n",
        "- Evitar nombres de variables largos\r\n",
        "- Evitar muy cortos, por ejemplo : x, y, i\r\n",
        "- Usar notacion snake_case"
      ]
    },
    {
      "cell_type": "code",
      "metadata": {
        "colab": {
          "base_uri": "https://localhost:8080/"
        },
        "id": "84YF98f58TIh",
        "outputId": "cdd8171c-e885-429c-b317-ff631838b59a"
      },
      "source": [
        "_2edad = 12\r\n",
        "print(_2edad)\r\n",
        "\r\n",
        "\"\"\"\r\n",
        "No se puede usar una palabra reservada como identificador de variable\r\n",
        "for = 12\r\n",
        "print(for)\r\n",
        "\r\n",
        "\"\"\"\r\n",
        "_2edad"
      ],
      "execution_count": 7,
      "outputs": [
        {
          "output_type": "stream",
          "text": [
            "12\n"
          ],
          "name": "stdout"
        },
        {
          "output_type": "execute_result",
          "data": {
            "text/plain": [
              "12"
            ]
          },
          "metadata": {
            "tags": []
          },
          "execution_count": 7
        }
      ]
    },
    {
      "cell_type": "code",
      "metadata": {
        "id": "AZFUIbAy9MVu"
      },
      "source": [
        "\"\"\"\r\n",
        "\r\n",
        "La notacion snake case consta de formar el identificador de variable\r\n",
        "separando las palabras del mismo con un guion bajo.\r\n",
        "\r\n",
        "Se recomienda que los identificadores se escriban en minusculas para las variables\r\n",
        "y en mayusculas para las constantes.\r\n",
        "\r\n",
        "es decir si tenemos una variable para los dias de la semana se escribiria, asi\r\n",
        "\r\n",
        "dias_de_la_semana = 7\r\n",
        "dias_mes = 31\r\n",
        "limite_maximo = 100\r\n",
        "\r\n",
        "\"\"\""
      ],
      "execution_count": null,
      "outputs": []
    },
    {
      "cell_type": "markdown",
      "metadata": {
        "id": "t-vtzeYd-I-6"
      },
      "source": [
        "#Tipos de datos\r\n",
        "- Númericos\r\n",
        "  - int 4 bytes ( 1, 2, 23454, etc. )\r\n",
        "  - float\r\n",
        "  - long \r\n",
        "  - complex 3 +2j (Raices negativas )\r\n",
        "- Boolean: True o False\r\n",
        "- String cadenas de caracteres (\"cad\" , 'cad' o \"\"\"cad\"\"\")\r\n",
        "- listas ( [1,2,3,4] , [a,b,1,2.3])\r\n",
        "- tuplas (   (edad,23),(3,4))\r\n",
        "- Conjuntos\r\n",
        "- Diccionarios ({\"nombre\":\"Juan\"})"
      ]
    },
    {
      "cell_type": "markdown",
      "metadata": {
        "id": "S1n1oWR1EPxh"
      },
      "source": [
        "# Tipo de dato String \r\n",
        "\r\n",
        "Este tipo de dato permite almacenar cadenas de caracteres, como por ejemplo:\r\n",
        "'''\r\n",
        "nombre = 'Jesus'\r\n",
        "lugar_nacimiento = \"Mexico D.F., Tacuba\"\r\n",
        "frase_favorita = \"\"\"\r\n",
        "El conocimiento\r\n",
        "me persigue,\r\n",
        "pero...\r\n",
        "yo soy mas rapido!!! \r\n",
        ":) \r\n",
        "\"\"\"\"\r\n",
        "'''"
      ]
    },
    {
      "cell_type": "code",
      "metadata": {
        "colab": {
          "base_uri": "https://localhost:8080/"
        },
        "id": "IwcvggquFKMq",
        "outputId": "dba0e15f-4c46-4479-dc7d-8d5d18161927"
      },
      "source": [
        "nombre = 'Luis'\r\n",
        "lugar_nacimiento = \"Mexico Edo. de mexico, Ecatepec\"\r\n",
        "frase_favorita = \"\"\"\r\n",
        "Todo el mundo miente,\r\n",
        "pero...\r\n",
        "lo que cambia es el porque!!! \r\n",
        ":)\r\n",
        "\"\"\"\r\n",
        "\r\n",
        "print(nombre)\r\n",
        "print(lugar_nacimiento)\r\n",
        "print(frase_favorita)"
      ],
      "execution_count": 8,
      "outputs": [
        {
          "output_type": "stream",
          "text": [
            "Luis\n",
            "Mexico Edo. de mexico, Ecatepec\n",
            "\n",
            "Todo el mundo miente,\n",
            "pero...\n",
            "lo que cambia es el porque!!! \n",
            ":)\n",
            "\n"
          ],
          "name": "stdout"
        }
      ]
    },
    {
      "cell_type": "markdown",
      "metadata": {
        "id": "s89u9ThKFrcZ"
      },
      "source": [
        "# Strings como arreglo\r\n",
        "Un string en Python es almacenado\r\n",
        "como el tipo de dato (estructura\r\n",
        "de datos) arreglo.\r\n",
        "\r\n",
        "Por ejemplo la declaracion\r\n",
        "````\r\n",
        "nombre = luis\r\n",
        "````\r\n",
        "El elemento 'J' es almacenado en la posicion 0.\r\n",
        " La 'e' en la 1 y asi sucesivamente.\r\n",
        "\r\n",
        " ### Selector\r\n",
        " la notacion para seleccionar un elemto del arreglo es:\r\n",
        "````\r\n",
        " [ 1 ]\r\n",
        "````\r\n",
        " Donde el valor interno debe ser un  valor numerico entero \r\n",
        " \r\n",
        "\r\n"
      ]
    },
    {
      "cell_type": "code",
      "metadata": {
        "colab": {
          "base_uri": "https://localhost:8080/"
        },
        "id": "F1rYBr07HK4u",
        "outputId": "bdc0fc42-b918-4a5d-b718-b2ce02242f34"
      },
      "source": [
        "nombre = 'Luis'\r\n",
        "print(nombre)\r\n",
        "print( nombre[0])\r\n",
        "print( nombre[3])\r\n"
      ],
      "execution_count": 9,
      "outputs": [
        {
          "output_type": "stream",
          "text": [
            "Luis\n",
            "L\n",
            "s\n"
          ],
          "name": "stdout"
        }
      ]
    },
    {
      "cell_type": "markdown",
      "metadata": {
        "id": "_t16QdTgHq3G"
      },
      "source": [
        "# Iterar sobre un String\r\n",
        "\r\n",
        "Se puede iterar sobre un String con\r\n",
        "un for de la forma:\r\n",
        "````\r\n",
        "for letra in range) len(nombre) ):\r\n",
        "  print( letra )\r\n",
        "  ````"
      ]
    },
    {
      "cell_type": "code",
      "metadata": {
        "colab": {
          "base_uri": "https://localhost:8080/"
        },
        "id": "u5PGXkjAIVPG",
        "outputId": "6abf06ef-e4e3-4f22-85c3-ee8d74f3cdb9"
      },
      "source": [
        "for indice in range( len(nombre) ): #0, 1, 2, 3, 4\r\n",
        "  print( indice, end = \" \" )\r\n",
        "  print(nombre [indice] )"
      ],
      "execution_count": 13,
      "outputs": [
        {
          "output_type": "stream",
          "text": [
            "0 L\n",
            "1 u\n",
            "2 i\n",
            "3 s\n"
          ],
          "name": "stdout"
        }
      ]
    },
    {
      "cell_type": "markdown",
      "metadata": {
        "id": "Yl7cUg5VKGt_"
      },
      "source": [
        "# Funcion range(inicio, stop\r\n",
        ",incremento)\r\n",
        "El inicio es opcional y por defecto tiene el valor 0\r\n",
        "\r\n",
        "El incremento tambien es opcional y por defecto es 1\r\n"
      ]
    },
    {
      "cell_type": "code",
      "metadata": {
        "colab": {
          "base_uri": "https://localhost:8080/"
        },
        "id": "a4Uv2iR_J7Fq",
        "outputId": "c1a8ce71-d51a-40c3-8ec5-c65d7c81cabd"
      },
      "source": [
        "for indice in range(1, len(nombre) , 1) :\r\n",
        "  print(nombre[indice])"
      ],
      "execution_count": 16,
      "outputs": [
        {
          "output_type": "stream",
          "text": [
            "u\n",
            "i\n",
            "s\n"
          ],
          "name": "stdout"
        }
      ]
    },
    {
      "cell_type": "code",
      "metadata": {
        "colab": {
          "base_uri": "https://localhost:8080/"
        },
        "id": "RxSIOag_K4Jo",
        "outputId": "4266bf71-6116-4c0c-c18e-a5f50b3015c7"
      },
      "source": [
        "for indice in range(3, -1 , -1) :\r\n",
        "  print(nombre[indice])"
      ],
      "execution_count": 21,
      "outputs": [
        {
          "output_type": "stream",
          "text": [
            "s\n",
            "i\n",
            "u\n",
            "L\n"
          ],
          "name": "stdout"
        }
      ]
    },
    {
      "cell_type": "markdown",
      "metadata": {
        "id": "JujzvKt6L6hO"
      },
      "source": [
        "# Strings e indexado negativo\r\n",
        "En python 3 se agrega una nueva\r\n",
        "caracteristicas a los arreglos de las cadenas de caracteres, esta consta\r\n",
        " de la capacidad de indexar de forma\r\n",
        " negativa.\r\n",
        " La logica es la siguiente.\r\n",
        "\r\n",
        " El ultimo elemento se le considera como indice (ALTERNATIVO) -1, con lo cual se podria referenciar el final de la cadena sin la necesidad de saber el tamaño de la misma.\r\n",
        " ````\r\n",
        " nombre = 'Luis'\r\n",
        "\r\n",
        "\r\n",
        " Indice normal:       0  1  2  3  4 5\r\n",
        "                      L  u  i  s\r\n",
        " Indice Alternativo: -5 -4 -3 -2 -1 0\r\n",
        "\r\n",
        "  ````"
      ]
    },
    {
      "cell_type": "code",
      "metadata": {
        "colab": {
          "base_uri": "https://localhost:8080/"
        },
        "id": "ic7KULc5Mk6K",
        "outputId": "6f71550d-9225-4dfe-b516-5e7605955c9a"
      },
      "source": [
        "nombre = \"Luis\"\r\n",
        "print( nombre[3] ) #Indexado Normal\r\n",
        "print( nombre[-1] ) #Indexado alternativo ( Negativo )\r\n",
        "print(\"\")\r\n",
        "for indice_alter in range(-1, -5 , -1):\r\n",
        "  print( nombre[indice_alter] )"
      ],
      "execution_count": 25,
      "outputs": [
        {
          "output_type": "stream",
          "text": [
            "s\n",
            "s\n",
            "\n",
            "s\n",
            "i\n",
            "u\n",
            "L\n"
          ],
          "name": "stdout"
        }
      ]
    },
    {
      "cell_type": "markdown",
      "metadata": {
        "id": "fQ5Eyfb8Pyvr"
      },
      "source": [
        "#Slicing de cadenas de caracteres.\r\n",
        "\r\n",
        "Esta caracteristica permite sacar secciones de una cadena con la siguiente sintaxis:\r\n",
        "```\r\n",
        "[ inicio : stop : incremento ]\r\n",
        "```\r\n",
        "donde inicio e incremento son opcionales y tambien soportan indexado alternativo (Negativos)"
      ]
    },
    {
      "cell_type": "code",
      "metadata": {
        "colab": {
          "base_uri": "https://localhost:8080/"
        },
        "id": "ppOur032Qf8F",
        "outputId": "c1f86c24-6013-4d26-8bb7-e5375b87b995"
      },
      "source": [
        "facultad = \"Facultad de Estudios Superiores Aragon (La mejor)\"\r\n",
        "\r\n",
        "print(facultad)\r\n",
        "for indice in range(12, 20, 1):\r\n",
        "  print(facultad[indice] , end =\"\")\r\n",
        "\r\n",
        "  #Hacer esto mismo con la caracteristica Slicing se logra asi:\r\n",
        "print(\"\\nCon Slicing\")\r\n",
        "print(facultad[12:20:1])\r\n",
        "\r\n",
        "#La palabra 'de' con Slicing\r\n",
        "\r\n",
        "print(facultad[9:11:1])\r\n",
        "\r\n",
        "La frase '(La mejor)' con indexado alternativo y Slicing\r\n",
        "\r\n",
        "print(facultad[-1:-10:1])"
      ],
      "execution_count": 32,
      "outputs": [
        {
          "output_type": "stream",
          "text": [
            "Facultad de Estudios Superiores Aragon (La mejor)\n",
            "Estudios\n",
            "Con Slicing\n",
            "Estudios\n",
            "de\n",
            "La frase '(La mejor)' con indexado alternativo y Slicing\n",
            "\n"
          ],
          "name": "stdout"
        }
      ]
    }
  ]
}