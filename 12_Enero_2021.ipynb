{
  "nbformat": 4,
  "nbformat_minor": 0,
  "metadata": {
    "colab": {
      "name": "12_Enero_2021.ipynb",
      "provenance": [],
      "collapsed_sections": [],
      "include_colab_link": true
    },
    "kernelspec": {
      "name": "python3",
      "display_name": "Python 3"
    }
  },
  "cells": [
    {
      "cell_type": "markdown",
      "metadata": {
        "id": "view-in-github",
        "colab_type": "text"
      },
      "source": [
        "<a href=\"https://colab.research.google.com/github/LESRLUEN/CYP2020/blob/main/12_Enero_2021.ipynb\" target=\"_parent\"><img src=\"https://colab.research.google.com/assets/colab-badge.svg\" alt=\"Open In Colab\"/></a>"
      ]
    },
    {
      "cell_type": "code",
      "metadata": {
        "id": "YqH4QwZHpW3w"
      },
      "source": [
        ""
      ],
      "execution_count": null,
      "outputs": []
    },
    {
      "cell_type": "markdown",
      "metadata": {
        "id": "A-EgVE1ypxzs"
      },
      "source": [
        "# Introduccion\r\n",
        "- Creado en los 90´s por Guido Van R.\r\n",
        "- En el 2000 python mejora y tiene nuevas caracteristicas\r\n",
        "- En 2020 deja de ser la version oficial 2.7 y solo se le dara soporte a partir de la version 3 en adelante\r\n",
        "\r\n",
        "## Caracteristicas de Python\r\n",
        "1. Lenguaje de proposito General.\r\n",
        "2. Interpretado y no-Compilado\r\n",
        "3. Tipos de datos dinamicos (Cadena, Numericos, Bool, entre otros)\r\n",
        "4. Multiplataforma\r\n",
        "5. Lenguaje Multi-Paradigma(Imperativa,POO y Funcional).\r\n",
        "6. Codigo Estructurado por identacion\r\n",
        "\r\n",
        "``` \r\n",
        "if a > 10:\r\n",
        "    print(\"Hola\")\r\n",
        "print (\"hola dos\")\r\n",
        "``` \r\n",
        "## Principios Zen de Python\r\n",
        " son las caractertisticas que guian el diseño del lenguaje de programacion Python\r\n",
        "\r\n"
      ]
    },
    {
      "cell_type": "code",
      "metadata": {
        "colab": {
          "base_uri": "https://localhost:8080/"
        },
        "id": "lIUzdlJVu77L",
        "outputId": "884b3634-d45a-40a2-bc3b-20b59de5f4d5"
      },
      "source": [
        "# Primer programa en Python 3\r\n",
        "\r\n",
        "nombre = \"Jose\"\r\n",
        "edad = 18\r\n",
        "print(\"hola\", nombre, edad)"
      ],
      "execution_count": 1,
      "outputs": [
        {
          "output_type": "stream",
          "text": [
            "hola Jose 18\n"
          ],
          "name": "stdout"
        }
      ]
    },
    {
      "cell_type": "markdown",
      "metadata": {
        "id": "-RCBsn4bvtX1"
      },
      "source": [
        "# La funcion print()\r\n",
        "es una de las funciones mas empleadas en la programacion y busca enviar datosa la salida estandar (monitor)\r\n",
        "\r\n",
        "### Formas de uso \r\n",
        "\r\n",
        "1. Con comas \r\n",
        "1. Con signos +\r\n",
        "1. .format()\r\n",
        "1. el operador f\"\r\n",
        "\r\n",
        "### Con comas\r\n",
        "\r\n",
        "concantena los argumentos enviados a print y les agrega un espacio.\r\n",
        "\r\n",
        "### Con signo +\r\n",
        "\r\n",
        "Concantena los valores ain espacio y sin hacer conversion de tipos.\r\n",
        "\r\n",
        "### Con la funcion format()\r\n",
        "\r\n",
        "permite darle formato a la salida de la impresion de variables.\r\n",
        "Emplea la funcion format del tipo de dato String .\r\n",
        "``` \r\n",
        "\"Cadena {} a {} form{}tear\".format(v1,v2,vn)\r\n",
        "``` \r\n",
        "\r\n",
        "### Con el operador f\"\"\r\n",
        "\r\n",
        "Es una variante de la forma amterior \r\n",
        "pero enmascarando la funcion format().\r\n",
        "\r\n",
        "print(f\" adadas {var} adadas {var2} adadas {varn}\")\r\n"
      ]
    },
    {
      "cell_type": "code",
      "metadata": {
        "colab": {
          "base_uri": "https://localhost:8080/"
        },
        "id": "TqgN9fQ-w6aX",
        "outputId": "9adcfccc-f31f-481d-b14e-cde547656456"
      },
      "source": [
        "print(\"Hola\", nombre, edad)\r\n",
        "print(\"Hola\"+ nombre + \" \"+ str(edad) )\r\n",
        "\r\n",
        "#Nombre: Jose con una edad de: 18 años\r\n",
        "print(\"Nombre:\", nombre,\"Con una edad de:\", edad)\r\n",
        "print(\"Nombre:\"+ \" \" + nombre + \" \" + \"Con una edad de:\" + str(edad))\r\n",
        "\r\n",
        "#Con format()\r\n",
        "print(\"Nombre: {}, con una edad de: {} años.\".format(nombre,edad))\r\n",
        "\r\n",
        "#Con el operador f\"\"\r\n",
        "print(f\"Nombre: {nombre} con una edad de {edad} años.\")\r\n"
      ],
      "execution_count": 10,
      "outputs": [
        {
          "output_type": "stream",
          "text": [
            "Hola Jose 18\n",
            "HolaJose 18\n",
            "Nombre: Jose Con una edad de: 18\n",
            "Nombre: Jose Con una edad de:18\n",
            "Nombre: Jose, con una edad de: 18 años.\n",
            "Nombre: Jose con una edad de 18 años.\n"
          ],
          "name": "stdout"
        }
      ]
    },
    {
      "cell_type": "markdown",
      "metadata": {
        "id": "g36MfPoA2M0g"
      },
      "source": [
        "#Funcion print() y sus caracteres de escape\r\n",
        "\r\n",
        "- \\n saldo de linea\r\n",
        "- \\t tabulador\r\n",
        "- \\ imprimir la diagonal\r\n",
        "- 'y\" \r\n",
        "- \\uxxxx\r\n",
        "\\uxxxxxx\r\n"
      ]
    },
    {
      "cell_type": "code",
      "metadata": {
        "colab": {
          "base_uri": "https://localhost:8080/"
        },
        "id": "G8NPV58L4l2g",
        "outputId": "4e7085ed-819a-463b-a019-fbc3cbcae70b"
      },
      "source": [
        "print(' \"')\r\n",
        "print(\"\\\"\")\r\n",
        "print(\"Nombre: José\\n\\tcon una edad \\\\de: 18 años\")\r\n",
        "#Caracteresd Unicode\r\n",
        "\r\n",
        "print(\"Hola \\u2661\")\r\n",
        "print(\"Hola \\u2618\")"
      ],
      "execution_count": 12,
      "outputs": [
        {
          "output_type": "stream",
          "text": [
            " \"\n",
            "\"\n",
            "Nombre: José\n",
            "\tcon una edad \\de: 18 años\n",
            "Hola ♡\n",
            "Hola ☘\n"
          ],
          "name": "stdout"
        }
      ]
    },
    {
      "cell_type": "markdown",
      "metadata": {
        "id": "a-BFaKAV8hOA"
      },
      "source": [
        "### print y salto de linea en el argumento\r\n",
        "print([lista de variables],end=\"\\n\")"
      ]
    },
    {
      "cell_type": "code",
      "metadata": {
        "colab": {
          "base_uri": "https://localhost:8080/"
        },
        "id": "BcZun_GG8cEd",
        "outputId": "6b7909c4-945a-452f-9892-bc8ca360370a"
      },
      "source": [
        "print(\" Hola \", end=\"\\u13CD\")\r\n",
        "print( \" Mundo \", end=\"++++\")\r\n",
        "print(\" Fin \", end=\"\\n\")"
      ],
      "execution_count": 16,
      "outputs": [
        {
          "output_type": "stream",
          "text": [
            " Hola Ꮝ Mundo ++++ Fin \n"
          ],
          "name": "stdout"
        }
      ]
    },
    {
      "cell_type": "markdown",
      "metadata": {
        "id": "lePwVzVm9pRL"
      },
      "source": [
        "###Comentarios en Python\r\n",
        "\r\n",
        "un comentario en programacion,\r\n",
        "es un trexto especialque es ignorado \r\n",
        "por el interprete o compilador (segun sea el caso) \r\n",
        "y es empleado para que el programador documente sus algoritmos.\r\n",
        "\r\n",
        "existen de 2 tipos: de linea simple y de multiple linea\r\n",
        "\r\n",
        "En Python,\r\n",
        "- la linea simple emplea #\r\n",
        "- la multilinea emplea ``` \r\n",
        "\r\n"
      ]
    },
    {
      "cell_type": "code",
      "metadata": {
        "colab": {
          "base_uri": "https://localhost:8080/"
        },
        "id": "152A3LUE_ePh",
        "outputId": "0bae9ee3-5d6a-475d-c4e1-14dc5bdda32a"
      },
      "source": [
        "print(\"Hola\")\r\n",
        "#print(\"Hola\")\r\n",
        "#cualquier cosa\r\n",
        "print(\"Hola\")\r\n",
        "print(\"Hola\") #Esta linea imprime hola\r\n",
        "print(\"Hola\")\r\n",
        "print(\"Hola\")\r\n",
        "'''''\r\n",
        "esto es un comentario de multiple lineas. ideal \r\n",
        "para cuando se desea explicar algo a fondo que requiera mayor detalle.\r\n",
        "'''''\r\n",
        "print(\"Hola\")\r\n",
        "print(\"Hola\")\r\n",
        "print(\"Hola\")\r\n",
        "print(\"Hola\")"
      ],
      "execution_count": 17,
      "outputs": [
        {
          "output_type": "stream",
          "text": [
            "Hola\n",
            "Hola\n",
            "Hola\n",
            "Hola\n",
            "Hola\n",
            "Hola\n",
            "Hola\n",
            "Hola\n",
            "Hola\n"
          ],
          "name": "stdout"
        }
      ]
    }
  ]
}