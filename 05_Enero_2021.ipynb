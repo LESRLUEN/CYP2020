{
  "nbformat": 4,
  "nbformat_minor": 0,
  "metadata": {
    "colab": {
      "name": "05_Enero_2021",
      "provenance": [],
      "collapsed_sections": [],
      "include_colab_link": true
    },
    "kernelspec": {
      "name": "python3",
      "display_name": "Python 3"
    }
  },
  "cells": [
    {
      "cell_type": "markdown",
      "metadata": {
        "id": "view-in-github",
        "colab_type": "text"
      },
      "source": [
        "<a href=\"https://colab.research.google.com/github/LESRLUEN/CYP2020/blob/main/05_Enero_2021.ipynb\" target=\"_parent\"><img src=\"https://colab.research.google.com/assets/colab-badge.svg\" alt=\"Open In Colab\"/></a>"
      ]
    },
    {
      "cell_type": "code",
      "metadata": {
        "colab": {
          "base_uri": "https://localhost:8080/",
          "height": 129
        },
        "id": "YaPESnnCkUmi",
        "outputId": "69344e92-b186-4822-cca7-1712e3e6f61c"
      },
      "source": [
        "sueldos = [0.0 for x in range(7)]\r\n",
        "print(sueldos)\r\n",
        "sueldos[0] = 12.3\r\n",
        "sueldos[1] = 32.3\r\n",
        "sueldos[2] = 43.3\r\n",
        "sueldos[3] = 11.3\r\n",
        "sueldos[4] = 77.3\r\n",
        "sueldos[5] = 88.3\r\n",
        "sueldos[6] = 99.3\r\n",
        "print(sueldos)\r\n",
        "#Como le hacemos para asignarles valor de 0.0 a 7.0\r\n",
        "#Con una estructura for¿?¿?\r\n",
        "\r\n",
        "for j in range(7):\r\n",
        "  sueldos[j]=float(input(\"Introduce un sueldlo::\"))\r\n",
        "print(sueldos)\r\n",
        "\r\n",
        "#Solucion2\r\n",
        "sueldo = [float(x) for x in range(7)]\r\n",
        "for i in range (0, 7):\r\n",
        "  sueldo[i]\r\n",
        "\r\n",
        "  #Automatizar el recorrido de los elementos del arreglo\r\n",
        "\r\n",
        "for i in range(7):\r\n",
        "  print(f\"El trabajador {int(i)+1} gana ${sueldo[i]}\")\r\n"
      ],
      "execution_count": null,
      "outputs": [
        {
          "output_type": "error",
          "ename": "SyntaxError",
          "evalue": "ignored",
          "traceback": [
            "\u001b[0;36m  File \u001b[0;32m\"<ipython-input-1-80f024012adb>\"\u001b[0;36m, line \u001b[0;32m1\u001b[0m\n\u001b[0;31m    sueldos = [0.0 for x i in range(7)]\u001b[0m\n\u001b[0m                         ^\u001b[0m\n\u001b[0;31mSyntaxError\u001b[0m\u001b[0;31m:\u001b[0m invalid syntax\n"
          ]
        }
      ]
    },
    {
      "cell_type": "code",
      "metadata": {
        "id": "UB5rAf-lrSOl"
      },
      "source": [
        "#problema 4.1\r\n",
        "MAXIMO = 7\r\n",
        "sueldos = [ 0.0 for x in range(MAXIMO)]:\r\n",
        "SUMA = 0.0\r\n",
        "PROMEDIO = 0.0\r\n",
        "\r\n",
        "for i in range ( MAXIMO ) :\r\n",
        "  sueldos[i] = float(input(\"Dame el sueldo:\"))\r\n",
        "\r\n",
        "for i in range ( MAXIMO ) :\r\n",
        "  print(f\"Trabajador {i+1}, gana : {sueldos[i]}\")\r\n",
        "\r\n",
        "for in range ( MAXIMO ) :\r\n",
        "  SUMA = SUMA + sueldos [ i ]\r\n",
        "\r\n",
        "PROMEDIO = SUMA / MAXIMO\r\n",
        "\r\n",
        "print(\"El promedio de sueldo es ${PROMEDIO}\")\r\n",
        "\r\n",
        "for in range (7):\r\n",
        "  if sueldo[i]>promedio:\r\n",
        "      print(f\"El trabajado {i+i} tiene un sueldo mayor al promedio\")"
      ],
      "execution_count": null,
      "outputs": []
    },
    {
      "cell_type": "code",
      "metadata": {
        "id": "7QidpttLsvi7"
      },
      "source": [
        "#Hacer un programa que solicite 5 valores enteros positivos y\r\n",
        "#una vez capturados por el trecaldo, el programa determine:\r\n",
        "\r\n",
        "    #Cual es el mayor\r\n",
        "    #Cual es el menor\r\n",
        "    #cual es el promedio\r\n",
        "  \r\n",
        "MAY = 0\r\n",
        "MEN = 1000000000\r\n",
        "RAN=5\r\n",
        "sum= 0\r\n",
        "valores = [ 0 for x in range(RAN)]\r\n",
        "\r\n",
        "for i in range(RAN):\r\n",
        "\r\n",
        "  valores[i] = float(input(\"dame un numero: \"))\r\n",
        "\r\n",
        "  if (valores[i] > MAY):\r\n",
        "\r\n",
        "    MAY = valores [i]\r\n",
        "\r\n",
        "  elif (valores[i < MEN]):\r\n",
        "\r\n",
        "    MEN = valores [i]\r\n",
        "\r\n",
        "  sum += valores[i]\r\n",
        "\r\n",
        "  \r\n",
        "promedio = sum/RAN \r\n",
        "\r\n",
        "print(f\"MAYOR VALOR: {MAY}\")\r\n",
        "print(f\"MENOR VALOR: {MEN}\")\r\n",
        "print(f\"PROMEDIO: {promedio}\")"
      ],
      "execution_count": null,
      "outputs": []
    },
    {
      "cell_type": "code",
      "metadata": {
        "colab": {
          "base_uri": "https://localhost:8080/"
        },
        "id": "HXcR-0flxLGG",
        "outputId": "c052659e-7e69-4756-dd2f-981d5fcea72f"
      },
      "source": [
        "#problema 4.1 \r\n",
        "\r\n",
        "N = int(input(\"Ingerese el numero de elementos del arreglo:\"))\r\n",
        "\r\n",
        "if 1<= N and N <=500:\r\n",
        "  VEC = [ 0 for X in range(N)]\r\n",
        "  for I in range(N):\r\n",
        "      VEC[I]=int(input(\"Ingrese valor:\" + str(I +1) + \":\"))\r\n",
        "  print(\"Lista de nuemros sin repeticiones:\")\r\n",
        "  I=0\r\n",
        "  while I < N :\r\n",
        "    print(I,\"=\",VEC[I])\r\n",
        "    REPET = VEC[I]\r\n",
        "    while I < N and REPET == VEC[I]:\r\n",
        "      #print(\"incrementa I\",I)\r\n",
        "      I = I + 1\r\n",
        "  I=I+1 \r\n",
        "\r\n",
        "else:\r\n",
        "  print(\"El numero de elementos del arreglo es incorrecto\")"
      ],
      "execution_count": 14,
      "outputs": [
        {
          "output_type": "stream",
          "text": [
            "Ingerese el numero de elementos del arreglo:10\n",
            "Ingrese valor:1:2\n",
            "Ingrese valor:2:3\n",
            "Ingrese valor:3:3\n",
            "Ingrese valor:4:3\n",
            "Ingrese valor:5:10\n",
            "Ingrese valor:6:20\n",
            "Ingrese valor:7:20\n",
            "Ingrese valor:8:40\n",
            "Ingrese valor:9:43\n",
            "Ingrese valor:10:51\n",
            "Lista de nuemros sin repeticiones:\n",
            "0 = 2\n",
            "incrementa I 0\n",
            "1 = 3\n",
            "incrementa I 1\n",
            "incrementa I 2\n",
            "incrementa I 3\n",
            "4 = 10\n",
            "incrementa I 4\n",
            "5 = 20\n",
            "incrementa I 5\n",
            "incrementa I 6\n",
            "7 = 40\n",
            "incrementa I 7\n",
            "8 = 43\n",
            "incrementa I 8\n",
            "9 = 51\n",
            "incrementa I 9\n"
          ],
          "name": "stdout"
        }
      ]
    }
  ]
}