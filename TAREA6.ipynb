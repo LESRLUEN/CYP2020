{
  "nbformat": 4,
  "nbformat_minor": 0,
  "metadata": {
    "colab": {
      "name": "TAREA6.ipynb",
      "provenance": [],
      "collapsed_sections": [],
      "include_colab_link": true
    },
    "kernelspec": {
      "name": "python3",
      "display_name": "Python 3"
    }
  },
  "cells": [
    {
      "cell_type": "markdown",
      "metadata": {
        "id": "view-in-github",
        "colab_type": "text"
      },
      "source": [
        "<a href=\"https://colab.research.google.com/github/LESRLUEN/CYP2020/blob/main/TAREA6.ipynb\" target=\"_parent\"><img src=\"https://colab.research.google.com/assets/colab-badge.svg\" alt=\"Open In Colab\"/></a>"
      ]
    },
    {
      "cell_type": "code",
      "metadata": {
        "id": "52jHcBPvqP3m",
        "colab": {
          "base_uri": "https://localhost:8080/"
        },
        "outputId": "a0bdb871-48f2-400c-8ec9-bc96e3c6f6b8"
      },
      "source": [
        "#Problema 3.3\r\n",
        "dato = int(input(\"Numero final: \"))\r\n",
        "if dato < 1 :\r\n",
        "    print(\"Solo numeros positivos mayores a cero.\")\r\n",
        "else :\r\n",
        "    i = 1\r\n",
        "    flag = True\r\n",
        "    cadenaD = \"\"\r\n",
        "    cadenaF = \"\"\r\n",
        "    while i <= dato :\r\n",
        "        aux = 1/i\r\n",
        "        cadenaD += (\"{0:.2f}\".format(1/i)) if flag else (\"{0:.2f}\".format(-(1/i)))\r\n",
        "        cadenaD += (\", \") if i < dato else \"\"\r\n",
        "        cadenaF += (f\"1/{i}\") if flag else (f\"-1/{i}\")\r\n",
        "        cadenaF += (\", \") if i < dato else \"\"\r\n",
        "        flag = not flag\r\n",
        "        i += 1\r\n",
        "    print(cadenaD)\r\n",
        "    print(cadenaF)"
      ],
      "execution_count": 1,
      "outputs": [
        {
          "output_type": "stream",
          "text": [
            "Numero final: 15\n",
            "1.00, -0.50, 0.33, -0.25, 0.20, -0.17, 0.14, -0.12, 0.11, -0.10, 0.09, -0.08, 0.08, -0.07, 0.07\n",
            "1/1, -1/2, 1/3, -1/4, 1/5, -1/6, 1/7, -1/8, 1/9, -1/10, 1/11, -1/12, 1/13, -1/14, 1/15\n"
          ],
          "name": "stdout"
        }
      ]
    },
    {
      "cell_type": "code",
      "metadata": {
        "id": "Nf2AHn_SsxFj",
        "colab": {
          "base_uri": "https://localhost:8080/"
        },
        "outputId": "dbd5885a-6bb5-4ca6-ec84-be15e666f13b"
      },
      "source": [
        "\r\n",
        "#Problema 3.4\r\n",
        "sueldo = 1\r\n",
        "nomina = 0\r\n",
        "while sueldo > 0 :\r\n",
        "    sueldo = float(input(\"Sueldo: $\"))\r\n",
        "    sueldo = (sueldo * 1.15) if sueldo < 1000 else (sueldo * 1.12)\r\n",
        "    if sueldo > 0 :\r\n",
        "        print(\"El sueldo total es: ${0:.2f}\".format(sueldo))\r\n",
        "        nomina += sueldo\r\n",
        "    else :\r\n",
        "        break\r\n",
        "print(\"La nomina total es: ${0:.2f}\".format(nomina))\r\n"
      ],
      "execution_count": 2,
      "outputs": [
        {
          "output_type": "stream",
          "text": [
            "Sueldo: $130\n",
            "El sueldo total es: $149.50\n",
            "Sueldo: $50\n",
            "El sueldo total es: $57.50\n",
            "Sueldo: $25500\n",
            "El sueldo total es: $28560.00\n",
            "Sueldo: $650\n",
            "El sueldo total es: $747.50\n",
            "Sueldo: $0\n",
            "La nomina total es: $29514.50\n"
          ],
          "name": "stdout"
        }
      ]
    },
    {
      "cell_type": "code",
      "metadata": {
        "id": "-gXEdkNas6tP",
        "colab": {
          "base_uri": "https://localhost:8080/"
        },
        "outputId": "d59d976f-223d-4929-cfb1-5adc543fec71"
      },
      "source": [
        "3#Problema 3.5\r\n",
        "sumaNumerosPos = 0\r\n",
        "sumaTodosNumeros = 0\r\n",
        "cantidadNumerosPos = 0\r\n",
        "i = 1\r\n",
        "cantidadDatos = int(input(\"¿Cuantos datos ingresaras? -:\"))\r\n",
        "while i <= cantidadDatos :\r\n",
        "    aux = int(input(\"Numero: \"))\r\n",
        "    sumaTodosNumeros += aux\r\n",
        "    if aux > 0 :\r\n",
        "        sumaNumerosPos += aux\r\n",
        "        cantidadNumerosPos += 1\r\n",
        "    i += 1\r\n",
        "print(f\"El total de numeros positivos fue: {cantidadNumerosPos}\")\r\n",
        "print(\"El promedio de los numeros positivos es: {0:.2f}\".format(sumaNumerosPos/cantidadNumerosPos))\r\n",
        "print(\"El promedio de todos los numeros fue: {0:.2f}\".format(sumaTodosNumeros/cantidadDatos))"
      ],
      "execution_count": 3,
      "outputs": [
        {
          "output_type": "stream",
          "text": [
            "¿Cuantos datos ingresaras? -:5\n",
            "Numero: 25\n",
            "Numero: 23\n",
            "Numero: 245\n",
            "Numero: 895\n",
            "Numero: 155\n",
            "El total de numeros positivos fue: 5\n",
            "El promedio de los numeros positivos es: 268.60\n",
            "El promedio de todos los numeros fue: 268.60\n"
          ],
          "name": "stdout"
        }
      ]
    },
    {
      "cell_type": "code",
      "metadata": {
        "id": "zRAHyYlRtLrH",
        "colab": {
          "base_uri": "https://localhost:8080/"
        },
        "outputId": "e212edc0-a322-4bed-853f-006196410a5f"
      },
      "source": [
        "\r\n",
        "\r\n",
        "\r\n",
        "#Problema 3.6\r\n",
        "cantidadDatos = int(input(\"¿Cuantos datos ingresaras? -:\"))\r\n",
        "if cantidadDatos < 1 :\r\n",
        "    print(\"Cantidad de datos no permitida.\")\r\n",
        "else :\r\n",
        "    listaNumeros = []\r\n",
        "    i = 1\r\n",
        "    while i <=  cantidadDatos :\r\n",
        "        listaNumeros.append(int(input(\"Numero: \")))\r\n",
        "        i += 1\r\n",
        "    for i in range(cantidadDatos) :\r\n",
        "        for j in range(cantidadDatos - 1) :\r\n",
        "            if listaNumeros[j] > listaNumeros[j+1] :\r\n",
        "                aux = listaNumeros[j+1]\r\n",
        "                listaNumeros[j+1] = listaNumeros[j]\r\n",
        "                listaNumeros[j] = aux\r\n",
        "    print(f\"El numero mas pequeño es: {listaNumeros[0]}\")\r\n",
        "    print(f\"El numero mas grande es: {listaNumeros[cantidadDatos - 1]}\")\r\n",
        "    "
      ],
      "execution_count": 5,
      "outputs": [
        {
          "output_type": "stream",
          "text": [
            "¿Cuantos datos ingresaras? -:3\n",
            "Numero: 2\n",
            "Numero: 98\n",
            "Numero: 1\n",
            "El numero mas pequeño es: 1\n",
            "El numero mas grande es: 98\n"
          ],
          "name": "stdout"
        }
      ]
    },
    {
      "cell_type": "code",
      "metadata": {
        "id": "anN6Bz0FGDcI",
        "colab": {
          "base_uri": "https://localhost:8080/"
        },
        "outputId": "c61d006f-838e-4980-9ad9-96ae058e1ec3"
      },
      "source": [
        "#Problema 3.6\r\n",
        "cantidadDatos = int(input(\"¿Cuantos datos ingresaras? -:\"))\r\n",
        "if cantidadDatos < 1 :\r\n",
        "    print(\"Cantidad de datos no permitida.\")\r\n",
        "else :\r\n",
        "    listaNumeros = []\r\n",
        "    i = 1\r\n",
        "    while i <=  cantidadDatos :\r\n",
        "        listaNumeros.append(int(input(\"Numero: \")))\r\n",
        "        i += 1\r\n",
        "    listaNumeros.sort()\r\n",
        "    print(f\"El numero mas pequeño es: {listaNumeros[0]}\")\r\n",
        "    print(f\"El numero mas grande es: {listaNumeros[cantidadDatos - 1]}\")"
      ],
      "execution_count": 6,
      "outputs": [
        {
          "output_type": "stream",
          "text": [
            "¿Cuantos datos ingresaras? -:5\n",
            "Numero: 53\n",
            "Numero: 645\n",
            "Numero: 4654153\n",
            "Numero: 4554136\n",
            "Numero: 541\n",
            "El numero mas pequeño es: 53\n",
            "El numero mas grande es: 4654153\n"
          ],
          "name": "stdout"
        }
      ]
    },
    {
      "cell_type": "code",
      "metadata": {
        "id": "WFimd3LsGI_1",
        "colab": {
          "base_uri": "https://localhost:8080/"
        },
        "outputId": "4107782f-5bc6-48d0-924b-1ac17a61c345"
      },
      "source": [
        "#Problema 3.7\r\n",
        "cantidadVentas = int(input(\"Cantidad de ventas: \"))\r\n",
        "if cantidadVentas < 1 :\r\n",
        "    print(\"Cantidad no admitida.\")\r\n",
        "else :\r\n",
        "    i = 1\r\n",
        "    venta_0_200 = 0\r\n",
        "    venta_200_400 = 0\r\n",
        "    venta_400 = 0\r\n",
        "    while i <= cantidadVentas :\r\n",
        "        venta = float(input(\"Total de venta: \"))\r\n",
        "        if venta < 0:\r\n",
        "            print(\"No se admiten ventas negativas.\")\r\n",
        "            break\r\n",
        "        else :\r\n",
        "            if venta >= 0 and venta < 200 :\r\n",
        "                venta_0_200 += 1\r\n",
        "            elif venta >= 200 and venta < 400 :\r\n",
        "                venta_200_400 += 1\r\n",
        "            else :\r\n",
        "                venta_400 += 1\r\n",
        "        i += 1\r\n",
        "    print(f\"Total de ventas de $200 o menos: {venta_0_200}\")\r\n",
        "    print(f\"Total de ventas de $200 a $400: {venta_200_400}\")\r\n",
        "    print(f\"Total de ventas de mas de $400: {venta_400}\")\r\n"
      ],
      "execution_count": 7,
      "outputs": [
        {
          "output_type": "stream",
          "text": [
            "Cantidad de ventas: 10\n",
            "Total de venta: 25000\n",
            "Total de venta: 3000000\n",
            "Total de venta: 5565232\n",
            "Total de venta: 2232323\n",
            "Total de venta: 15616\n",
            "Total de venta: 561631\n",
            "Total de venta: 516516\n",
            "Total de venta: 65168\n",
            "Total de venta: 324131\n",
            "Total de venta: 468436541\n",
            "Total de ventas de $200 o menos: 0\n",
            "Total de ventas de $200 a $400: 0\n",
            "Total de ventas de mas de $400: 10\n"
          ],
          "name": "stdout"
        }
      ]
    },
    {
      "cell_type": "code",
      "metadata": {
        "id": "r3t3SKPoGWaE",
        "colab": {
          "base_uri": "https://localhost:8080/"
        },
        "outputId": "4f237c20-3363-4435-f168-bcb1b61a169b"
      },
      "source": [
        "#Problema 3.8\r\n",
        "numero = int(input(\"Numero: \"))\r\n",
        "if numero < 1 :\r\n",
        "    print(\"Solo numeros positivos.\")\r\n",
        "else :\r\n",
        "    cadena = f\"{numero}, \"\r\n",
        "    while numero != 1 :\r\n",
        "        numero = (int(numero/2)) if numero%2 == 0 else ((numero * 3) + 1)\r\n",
        "        cadena += (f\"{numero}, \") if numero != 1 else (f\"{numero}\")\r\n",
        "print(cadena)\r\n"
      ],
      "execution_count": 8,
      "outputs": [
        {
          "output_type": "stream",
          "text": [
            "Numero: 12\n",
            "12, 6, 3, 10, 5, 16, 8, 4, 2, 1\n"
          ],
          "name": "stdout"
        }
      ]
    },
    {
      "cell_type": "code",
      "metadata": {
        "id": "6n8AJKQnGcUH",
        "colab": {
          "base_uri": "https://localhost:8080/"
        },
        "outputId": "7bf3c26b-53cd-457f-8449-42f9656cc236"
      },
      "source": [
        "#Problema 3.9\r\n",
        "numero = int(input(\"Numero: \"))\r\n",
        "if numero < 1 :\r\n",
        "    print(\"Solo numeros positivos.\")\r\n",
        "else :\r\n",
        "    cont = 0\r\n",
        "    i = 1\r\n",
        "    while i <= numero :\r\n",
        "        cont += i ** i\r\n",
        "        i += 1\r\n",
        "    print(f\"Total: {cont}\")"
      ],
      "execution_count": 9,
      "outputs": [
        {
          "output_type": "stream",
          "text": [
            "Numero: 12\n",
            "Total: 9211817190184\n"
          ],
          "name": "stdout"
        }
      ]
    },
    {
      "cell_type": "code",
      "metadata": {
        "id": "M6T_bGI4Gg7Q",
        "colab": {
          "base_uri": "https://localhost:8080/"
        },
        "outputId": "b61bd8ab-24c1-46e3-fba3-784b04259506"
      },
      "source": [
        "#Problema 3.10\r\n",
        "i = 3\r\n",
        "primero = 0\r\n",
        "segundo = 1\r\n",
        "cadena = \"0, 1, \"\r\n",
        "while i <= 180 :\r\n",
        "    proximo = primero + segundo\r\n",
        "    primero = segundo\r\n",
        "    segundo = proximo\r\n",
        "    cadena += (f\"{proximo}, \") if i < 180 else (f\"{proximo}\")\r\n",
        "    i += 1\r\n",
        "print(cadena)\r\n"
      ],
      "execution_count": 10,
      "outputs": [
        {
          "output_type": "stream",
          "text": [
            "0, 1, 1, 2, 3, 5, 8, 13, 21, 34, 55, 89, 144, 233, 377, 610, 987, 1597, 2584, 4181, 6765, 10946, 17711, 28657, 46368, 75025, 121393, 196418, 317811, 514229, 832040, 1346269, 2178309, 3524578, 5702887, 9227465, 14930352, 24157817, 39088169, 63245986, 102334155, 165580141, 267914296, 433494437, 701408733, 1134903170, 1836311903, 2971215073, 4807526976, 7778742049, 12586269025, 20365011074, 32951280099, 53316291173, 86267571272, 139583862445, 225851433717, 365435296162, 591286729879, 956722026041, 1548008755920, 2504730781961, 4052739537881, 6557470319842, 10610209857723, 17167680177565, 27777890035288, 44945570212853, 72723460248141, 117669030460994, 190392490709135, 308061521170129, 498454011879264, 806515533049393, 1304969544928657, 2111485077978050, 3416454622906707, 5527939700884757, 8944394323791464, 14472334024676221, 23416728348467685, 37889062373143906, 61305790721611591, 99194853094755497, 160500643816367088, 259695496911122585, 420196140727489673, 679891637638612258, 1100087778366101931, 1779979416004714189, 2880067194370816120, 4660046610375530309, 7540113804746346429, 12200160415121876738, 19740274219868223167, 31940434634990099905, 51680708854858323072, 83621143489848422977, 135301852344706746049, 218922995834555169026, 354224848179261915075, 573147844013817084101, 927372692193078999176, 1500520536206896083277, 2427893228399975082453, 3928413764606871165730, 6356306993006846248183, 10284720757613717413913, 16641027750620563662096, 26925748508234281076009, 43566776258854844738105, 70492524767089125814114, 114059301025943970552219, 184551825793033096366333, 298611126818977066918552, 483162952612010163284885, 781774079430987230203437, 1264937032042997393488322, 2046711111473984623691759, 3311648143516982017180081, 5358359254990966640871840, 8670007398507948658051921, 14028366653498915298923761, 22698374052006863956975682, 36726740705505779255899443, 59425114757512643212875125, 96151855463018422468774568, 155576970220531065681649693, 251728825683549488150424261, 407305795904080553832073954, 659034621587630041982498215, 1066340417491710595814572169, 1725375039079340637797070384, 2791715456571051233611642553, 4517090495650391871408712937, 7308805952221443105020355490, 11825896447871834976429068427, 19134702400093278081449423917, 30960598847965113057878492344, 50095301248058391139327916261, 81055900096023504197206408605, 131151201344081895336534324866, 212207101440105399533740733471, 343358302784187294870275058337, 555565404224292694404015791808, 898923707008479989274290850145, 1454489111232772683678306641953, 2353412818241252672952597492098, 3807901929474025356630904134051, 6161314747715278029583501626149, 9969216677189303386214405760200, 16130531424904581415797907386349, 26099748102093884802012313146549, 42230279526998466217810220532898, 68330027629092351019822533679447, 110560307156090817237632754212345, 178890334785183168257455287891792, 289450641941273985495088042104137, 468340976726457153752543329995929, 757791618667731139247631372100066, 1226132595394188293000174702095995, 1983924214061919432247806074196061, 3210056809456107725247980776292056, 5193981023518027157495786850488117, 8404037832974134882743767626780173, 13598018856492162040239554477268290, 22002056689466296922983322104048463, 35600075545958458963222876581316753, 57602132235424755886206198685365216, 93202207781383214849429075266681969, 150804340016807970735635273952047185, 244006547798191185585064349218729154, 394810887814999156320699623170776339, 638817435613190341905763972389505493, 1033628323428189498226463595560281832, 1672445759041379840132227567949787325, 2706074082469569338358691163510069157, 4378519841510949178490918731459856482, 7084593923980518516849609894969925639, 11463113765491467695340528626429782121\n"
          ],
          "name": "stdout"
        }
      ]
    },
    {
      "cell_type": "code",
      "metadata": {
        "id": "RPOOXoAWG0xN",
        "colab": {
          "base_uri": "https://localhost:8080/"
        },
        "outputId": "369329e0-2cfc-4591-c19b-bf783b21e750"
      },
      "source": [
        "\r\n",
        "#Problema 3.11\r\n",
        "voto = 1\r\n",
        "totalVotos = 0\r\n",
        "votos_1 = 0\r\n",
        "votos_2 = 0\r\n",
        "votos_3 = 0\r\n",
        "votos_4 = 0\r\n",
        "while voto > 0 and voto < 5 :\r\n",
        "    voto = int(input(\"Voto: \"))\r\n",
        "    totalVotos = (totalVotos + 1) if voto > 0 and voto < 5 else totalVotos\r\n",
        "    if voto == 1 :\r\n",
        "        votos_1 += 1\r\n",
        "    elif voto == 2 :\r\n",
        "        votos_2 += 1\r\n",
        "    elif voto == 3 :\r\n",
        "        votos_3 += 1\r\n",
        "    elif voto == 4 :\r\n",
        "        votos_4 += 1\r\n",
        "    else :\r\n",
        "        break\r\n",
        "print(f\"Fueron registrados {totalVotos} votos.\")\r\n",
        "print(f\"Candidato 1: {votos_1} votos obtenidos para un {(votos_1/totalVotos) * 100}% de los votos\")\r\n",
        "print(f\"Candidato 2: {votos_2} votos obtenidos para un {(votos_2/totalVotos) * 100}% de los votos\")\r\n",
        "print(f\"Candidato 3: {votos_3} votos obtenidos para un {(votos_3/totalVotos) * 100}% de los votos\")\r\n",
        "print(f\"Candidato 4: {votos_4} votos obtenidos para un {(votos_4/totalVotos) * 100}% de los votos\")\r\n"
      ],
      "execution_count": 13,
      "outputs": [
        {
          "output_type": "stream",
          "text": [
            "Voto: 4\n",
            "Voto: 3\n",
            "Voto: 2\n",
            "Voto: 2\n",
            "Voto: 2\n",
            "Voto: 2\n",
            "Voto: 0\n",
            "Fueron registrados 6 votos.\n",
            "Candidato 1: 0 votos obtenidos para un 0.0% de los votos\n",
            "Candidato 2: 4 votos obtenidos para un 66.66666666666666% de los votos\n",
            "Candidato 3: 1 votos obtenidos para un 16.666666666666664% de los votos\n",
            "Candidato 4: 1 votos obtenidos para un 16.666666666666664% de los votos\n"
          ],
          "name": "stdout"
        }
      ]
    },
    {
      "cell_type": "code",
      "metadata": {
        "id": "kPQa4Nx9Hq7F",
        "colab": {
          "base_uri": "https://localhost:8080/"
        },
        "outputId": "2435bd29-22f2-4523-d202-cb867b8ea408"
      },
      "source": [
        "#Problema 3.12\r\n",
        "sueldo = 1\r\n",
        "id = 0\r\n",
        "idMax = 0\r\n",
        "sueldoMax = 0\r\n",
        "empleados = int(input(\"Numero de empleados: \"))\r\n",
        "i = 0\r\n",
        "while i < empleados :\r\n",
        "    id = int(input(\"Id: \"))\r\n",
        "    sueldo = float(input(\"Sueldo: \"))\r\n",
        "    if sueldo > sueldoMax :\r\n",
        "        sueldoMax = sueldo\r\n",
        "        idMax = id\r\n",
        "    i += 1\r\n",
        "print(f\"El id del empleado con el sueldo mas alto es: {idMax}\")\r\n",
        "print(f\"Sueldo: {sueldoMax}\")\r\n"
      ],
      "execution_count": 14,
      "outputs": [
        {
          "output_type": "stream",
          "text": [
            "Numero de empleados: 2\n",
            "Id: 15151345\n",
            "Sueldo: 2500\n",
            "Id: 5613516351\n",
            "Sueldo: 12121\n",
            "El id del empleado con el sueldo mas alto es: 5613516351\n",
            "Sueldo: 12121.0\n"
          ],
          "name": "stdout"
        }
      ]
    },
    {
      "cell_type": "code",
      "metadata": {
        "id": "iejdjlzjHEcI",
        "colab": {
          "base_uri": "https://localhost:8080/"
        },
        "outputId": "94eb01f6-43a4-4461-e362-62986bbb7f92"
      },
      "source": [
        "\r\n",
        "65262\r\n",
        "4#Problema 3.13\r\n",
        "i = 0\r\n",
        "mes = [\"Enero\", \"Febrero\", \"Marzo\", \"Abril\", \"Mayo\", \"Junio\", \"Julio\", \"Agosto\", \"Septiembre\", \"Octubre\", \"Noviembre\", \"Diciembre\"]\r\n",
        "menorRS = 1000\r\n",
        "menorMS = 0\r\n",
        "totalRN = 0\r\n",
        "totalRC = 0\r\n",
        "totalRS = 0\r\n",
        "while i < 12 :\r\n",
        "    print(f\"Registros {mes[i]}\")\r\n",
        "    registroN = float(input(\"Region Norte: \"))\r\n",
        "    registroC = float(input(\"Region Centro: \"))\r\n",
        "    registroS = float(input(\"Region Sur: \"))\r\n",
        "    if menorRS > registroS :\r\n",
        "        menorRS = registroS\r\n",
        "        menorMS = i\r\n",
        "    totalRN = (totalRN + registroN) if registroN > 0 else totalRN\r\n",
        "    totalRC = (totalRC + registroC) if registroC > 0 else totalRC\r\n",
        "    totalRS = (totalRS + registroS) if registroS > 0 else totalRS\r\n",
        "    i += 1\r\n",
        "if totalRN == totalRC and totalRN == totalRS :\r\n",
        "    print(\"Todas las regiones tuvieron un promedio de lluvia anual igual ({0:.3f}).\".format(totalRN/12))\r\n",
        "    print(\"El promedio de lluvia anual de la region central es : {0:.3f}\".format(totalRC/12))\r\n",
        "elif totalRN > totalRC and totalRN > totalRS :\r\n",
        "    print(\"La region norte tuvo un mayor promedio de lluvia anual ({0:.3f})\".format(totalRN/12))\r\n",
        "    print(\"El promedio de lluvia anual de la region central es : {0:.3f}\".format(totalRC/12))\r\n",
        "elif totalRC > totalRS :\r\n",
        "    print(\"La region centro tuvo un mayor promedio de lluvia anual ({0:.3f})\".format(totalRC/12))\r\n",
        "else :\r\n",
        "    print(\"La region sur tuvo un mayor promedio de lluvia anual ({0:.3f})\".format(totalRS/12))\r\n",
        "    print(\"El promedio de lluvia anual de la region central es : {0:.3f}\".format(totalRC/12))\r\n",
        "print(f\"{mes[menorMS]} fue el mes con menor registro de lluvia ({menorRS})\")\r\n"
      ],
      "execution_count": 16,
      "outputs": [
        {
          "output_type": "stream",
          "text": [
            "Registros Enero\n",
            "Region Norte: 15\n",
            "Region Centro: 30\n",
            "Region Sur: 30\n",
            "Registros Febrero\n",
            "Region Norte: 45\n",
            "Region Centro: 20\n",
            "Region Sur: 20\n",
            "Registros Marzo\n",
            "Region Norte: 30\n",
            "Region Centro: 506\n",
            "Region Sur: 50\n",
            "Registros Abril\n",
            "Region Norte: 50\n",
            "Region Centro: 10\n",
            "Region Sur: 20\n",
            "Registros Mayo\n",
            "Region Norte: 20\n",
            "Region Centro: 30\n",
            "Region Sur: 504\n",
            "Registros Junio\n",
            "Region Norte: 50\n",
            "Region Centro: 50\n",
            "Region Sur: 508\n",
            "Registros Julio\n",
            "Region Norte: 408750\n",
            "Region Centro: 4540\n",
            "Region Sur: 50\n",
            "Registros Agosto\n",
            "Region Norte: 051\n",
            "Region Centro: 50\n",
            "Region Sur: 051\n",
            "Registros Septiembre\n",
            "Region Norte: 6165\n",
            "Region Centro: 131\n",
            "Region Sur: 1581\n",
            "Registros Octubre\n",
            "Region Norte: 51635\n",
            "Region Centro: 651\n",
            "Region Sur: 2132\n",
            "Registros Noviembre\n",
            "Region Norte: 13\n",
            "Region Centro: 213\n",
            "Region Sur: 165\n",
            "Registros Diciembre\n",
            "Region Norte: 136\n",
            "Region Centro: 512\n",
            "Region Sur: 15\n",
            "La region norte tuvo un mayor promedio de lluvia anual (38913.333)\n",
            "El promedio de lluvia anual de la region central es : 561.917\n",
            "Diciembre fue el mes con menor registro de lluvia (15.0)\n"
          ],
          "name": "stdout"
        }
      ]
    },
    {
      "cell_type": "code",
      "metadata": {
        "id": "MA44dwy2Hy1o",
        "colab": {
          "base_uri": "https://localhost:8080/"
        },
        "outputId": "de48d4d6-fea8-4b08-d6e3-9bcab7666793"
      },
      "source": [
        "#Problema 3.14\r\n",
        "precios = []\r\n",
        "contBoletos = [0, 0, 0, 0, 0]\r\n",
        "recaudacionTotal = 0\r\n",
        "venta = 1\r\n",
        "for i in range(5) :\r\n",
        "    precios.append(float(input(f\"Precio Categoria {i+1}: $\")))\r\n",
        "while i >= 1 :\r\n",
        "    categoria = int(input(\"Categoria: \"))\r\n",
        "    cantidad = int(input(\"Cantidad: \"))\r\n",
        "    if categoria > 0 and categoria < 6 and cantidad > 0 :\r\n",
        "        total = cantidad * precios[categoria - 1]\r\n",
        "        print(\"Ticket\")\r\n",
        "        print(f\"Categoria de los boletos: {categoria}\")\r\n",
        "        print(f\"Total de boletos: {cantidad}\")\r\n",
        "        print(\"Total a pagar: ${0:.2f}\".format(total))\r\n",
        "        recaudacionTotal += total\r\n",
        "        contBoletos[categoria - 1] += cantidad\r\n",
        "        print(\"_______________________\")\r\n",
        "    else :\r\n",
        "        break\r\n",
        "for index, i in enumerate(contBoletos) :\r\n",
        "    print(f\"Boletos vendidos (Categoria {index + 1}): {i}\")\r\n",
        "print(\"Recaudacion total: ${0:.2f}\".format(recaudacionTotal))\r\n"
      ],
      "execution_count": 18,
      "outputs": [
        {
          "output_type": "stream",
          "text": [
            "Precio Categoria 1: $200\n",
            "Precio Categoria 2: $100\n",
            "Precio Categoria 3: $50\n",
            "Precio Categoria 4: $100\n",
            "Precio Categoria 5: $20\n",
            "Categoria: 3\n",
            "Cantidad: 500\n",
            "Ticket\n",
            "Categoria de los boletos: 3\n",
            "Total de boletos: 500\n",
            "Total a pagar: $25000.00\n",
            "_______________________\n",
            "Categoria: 0\n",
            "Cantidad: 0\n",
            "Boletos vendidos (Categoria 1): 0\n",
            "Boletos vendidos (Categoria 2): 0\n",
            "Boletos vendidos (Categoria 3): 500\n",
            "Boletos vendidos (Categoria 4): 0\n",
            "Boletos vendidos (Categoria 5): 0\n",
            "Recaudacion total: $25000.00\n"
          ],
          "name": "stdout"
        }
      ]
    },
    {
      "cell_type": "code",
      "metadata": {
        "id": "MkJJLTQdH81v",
        "colab": {
          "base_uri": "https://localhost:8080/"
        },
        "outputId": "d3a9649d-2fc0-4b81-cfa3-b9e933ddfc69"
      },
      "source": [
        "#Problema 3.15\r\n",
        "contL = 0\r\n",
        "costeL = 0\r\n",
        "costeN = 0\r\n",
        "costeI = 0\r\n",
        "tipo = 1\r\n",
        "print(\"1. Internacional \\n2. Nacional \\n3. Local\")\r\n",
        "while tipo == 1 or tipo == 2 or tipo == 3 :\r\n",
        "    tipo = int(input(\"Tipo de llamada (Ingresa el numero): \"))\r\n",
        "    minutos = 0\r\n",
        "    if tipo == 3 :\r\n",
        "        contL += 1\r\n",
        "    elif tipo == 2 :\r\n",
        "        minutos = int(input(\"Minutos usados: \"))\r\n",
        "        coste = (1.2 * minutos) if minutos > 0 and minutos < 4 else ((1.2 * 3) + (0.48 * (minutos - 3)))\r\n",
        "        costeN += coste\r\n",
        "    elif tipo == 1 :\r\n",
        "        minutos = int(input(\"Minutos usados: \"))\r\n",
        "        coste = (7.59 * minutos) if minutos > 0 and minutos < 4 else ((7.59 * 3) + (3.03 * (minutos - 3)))\r\n",
        "        costeI += coste\r\n",
        "    else :\r\n",
        "        break\r\n",
        "costeL = ((contL - 50) * 0.6) if contL > 50 else costeL\r\n",
        "print(\"Coste total llamada internacional: ${0:.2f}\".format(costeI))\r\n",
        "print(\"Coste total llamada nacional: ${0:.2f}\".format(costeN))\r\n",
        "print(\"Coste total llamada local: ${0:.2f}\".format(costeL))\r\n",
        "print(f\"Total: {costeI + costeN + costeL}\")\r\n"
      ],
      "execution_count": 19,
      "outputs": [
        {
          "output_type": "stream",
          "text": [
            "1. Internacional \n",
            "2. Nacional \n",
            "3. Local\n",
            "Tipo de llamada (Ingresa el numero): 3\n",
            "Tipo de llamada (Ingresa el numero): 2\n",
            "Minutos usados: 1\n",
            "Tipo de llamada (Ingresa el numero): 1\n",
            "Minutos usados: 500\n",
            "Tipo de llamada (Ingresa el numero): 50\n",
            "Coste total llamada internacional: $1528.68\n",
            "Coste total llamada nacional: $1.20\n",
            "Coste total llamada local: $0.00\n",
            "Total: 1529.8799999999999\n"
          ],
          "name": "stdout"
        }
      ]
    },
    {
      "cell_type": "code",
      "metadata": {
        "id": "O-6USK5aIL-W",
        "colab": {
          "base_uri": "https://localhost:8080/"
        },
        "outputId": "037f44b0-2337-4397-fb68-1b380516a54c"
      },
      "source": [
        "#Problema 3.16\r\n",
        "inicio = int(input(\"Año de inicio: \"))\r\n",
        "inicioAux = inicio\r\n",
        "tipo = [0, 0, 0, 0, 0]\r\n",
        "produccionAnual = []\r\n",
        "produccionTipo_2 = 0\r\n",
        "produccionAnual_2 = 0\r\n",
        "produccionTipo_3 = []\r\n",
        "while inicio <= 2020 :\r\n",
        "    print(f\"Año {inicio}\")\r\n",
        "    produccion = 0\r\n",
        "    for index, i in enumerate(tipo) :\r\n",
        "        aux = float(input(f\"Cantidad producida de vino tipo {index + 1} (l): \"))\r\n",
        "        if aux < 0 :\r\n",
        "            break\r\n",
        "        tipo[index] += aux\r\n",
        "        produccion += aux\r\n",
        "        if index == 1 and aux > produccionTipo_2:\r\n",
        "            produccionTipo_2 = aux\r\n",
        "            produccionAnual_2 = inicio\r\n",
        "        if index == 2 and aux == 0:\r\n",
        "            produccionTipo_3.append(inicio)\r\n",
        "    produccionAnual.append(produccion)\r\n",
        "    inicio += 1\r\n",
        "for index, i in enumerate(tipo) :\r\n",
        "    print(f\"Vino producido tipo {index + 1}: {i} l\")\r\n",
        "for index, i in enumerate(produccionAnual) :\r\n",
        "    print(f\"Produccion del año {inicioAux + index}: {i} l\")\r\n",
        "print(f\"El año {produccionAnual_2} se produjo mas vino tipo de 2. ({produccionTipo_2})\")\r\n",
        "for i in produccionTipo_3 :\r\n",
        "    print(f\"El año {i} no se produjo vino tipo 3\")"
      ],
      "execution_count": 20,
      "outputs": [
        {
          "output_type": "stream",
          "text": [
            "Año de inicio: 2015\n",
            "Año 2015\n",
            "Cantidad producida de vino tipo 1 (l): 500\n",
            "Cantidad producida de vino tipo 2 (l): 200\n",
            "Cantidad producida de vino tipo 3 (l): 50\n",
            "Cantidad producida de vino tipo 4 (l): 100\n",
            "Cantidad producida de vino tipo 5 (l): 200\n",
            "Año 2016\n",
            "Cantidad producida de vino tipo 1 (l): 2\n",
            "Cantidad producida de vino tipo 2 (l): 2\n",
            "Cantidad producida de vino tipo 3 (l): 2\n",
            "Cantidad producida de vino tipo 4 (l): 2\n",
            "Cantidad producida de vino tipo 5 (l): 2\n",
            "Año 2017\n",
            "Cantidad producida de vino tipo 1 (l): 5050\n",
            "Cantidad producida de vino tipo 2 (l): 200\n",
            "Cantidad producida de vino tipo 3 (l): 300\n",
            "Cantidad producida de vino tipo 4 (l): 300\n",
            "Cantidad producida de vino tipo 5 (l): 500\n",
            "Año 2018\n",
            "Cantidad producida de vino tipo 1 (l): 100\n",
            "Cantidad producida de vino tipo 2 (l): 200\n",
            "Cantidad producida de vino tipo 3 (l): 300\n",
            "Cantidad producida de vino tipo 4 (l): 500\n",
            "Cantidad producida de vino tipo 5 (l): 100\n",
            "Año 2019\n",
            "Cantidad producida de vino tipo 1 (l): 5000\n",
            "Cantidad producida de vino tipo 2 (l): 5000\n",
            "Cantidad producida de vino tipo 3 (l): 5000\n",
            "Cantidad producida de vino tipo 4 (l): 500\n",
            "Cantidad producida de vino tipo 5 (l): 500\n",
            "Año 2020\n",
            "Cantidad producida de vino tipo 1 (l): 50\n",
            "Cantidad producida de vino tipo 2 (l): 50\n",
            "Cantidad producida de vino tipo 3 (l): 0\n",
            "Cantidad producida de vino tipo 4 (l): 50\n",
            "Cantidad producida de vino tipo 5 (l): 0\n",
            "Vino producido tipo 1: 10702.0 l\n",
            "Vino producido tipo 2: 5652.0 l\n",
            "Vino producido tipo 3: 5652.0 l\n",
            "Vino producido tipo 4: 1452.0 l\n",
            "Vino producido tipo 5: 1302.0 l\n",
            "Produccion del año 2015: 1050.0 l\n",
            "Produccion del año 2016: 10.0 l\n",
            "Produccion del año 2017: 6350.0 l\n",
            "Produccion del año 2018: 1200.0 l\n",
            "Produccion del año 2019: 16000.0 l\n",
            "Produccion del año 2020: 150.0 l\n",
            "El año 2019 se produjo mas vino tipo de 2. (5000.0)\n",
            "El año 2020 no se produjo vino tipo 3\n"
          ],
          "name": "stdout"
        }
      ]
    },
    {
      "cell_type": "code",
      "metadata": {
        "id": "Q3zfiu4cITH7",
        "colab": {
          "base_uri": "https://localhost:8080/"
        },
        "outputId": "d889edaa-6eed-4897-f54d-50e9aebd52e3"
      },
      "source": [
        "#Problema 3.17\r\n",
        "limite = int(input(\"Numero limite: \"))\r\n",
        "if limite < 1 :\r\n",
        "    print(\"Entrada no valida.\")\r\n",
        "else :\r\n",
        "    i = 1\r\n",
        "    cadena = \"1, \"\r\n",
        "    while i <= limite :\r\n",
        "        if i+2 > limite :\r\n",
        "            break\r\n",
        "        else :\r\n",
        "            i += 2\r\n",
        "            cont = 0\r\n",
        "            for e in range(1, i, 2) :\r\n",
        "                cont = (cont + 1) if i%e == 0 else cont\r\n",
        "            cadena = (cadena + str(i) + \", \") if cont == 1 else cadena\r\n",
        "    print(cadena)"
      ],
      "execution_count": 22,
      "outputs": [
        {
          "output_type": "stream",
          "text": [
            "Numero limite: 1000\n",
            "1, 3, 5, 7, 11, 13, 17, 19, 23, 29, 31, 37, 41, 43, 47, 53, 59, 61, 67, 71, 73, 79, 83, 89, 97, 101, 103, 107, 109, 113, 127, 131, 137, 139, 149, 151, 157, 163, 167, 173, 179, 181, 191, 193, 197, 199, 211, 223, 227, 229, 233, 239, 241, 251, 257, 263, 269, 271, 277, 281, 283, 293, 307, 311, 313, 317, 331, 337, 347, 349, 353, 359, 367, 373, 379, 383, 389, 397, 401, 409, 419, 421, 431, 433, 439, 443, 449, 457, 461, 463, 467, 479, 487, 491, 499, 503, 509, 521, 523, 541, 547, 557, 563, 569, 571, 577, 587, 593, 599, 601, 607, 613, 617, 619, 631, 641, 643, 647, 653, 659, 661, 673, 677, 683, 691, 701, 709, 719, 727, 733, 739, 743, 751, 757, 761, 769, 773, 787, 797, 809, 811, 821, 823, 827, 829, 839, 853, 857, 859, 863, 877, 881, 883, 887, 907, 911, 919, 929, 937, 941, 947, 953, 967, 971, 977, 983, 991, 997, \n"
          ],
          "name": "stdout"
        }
      ]
    },
    {
      "cell_type": "code",
      "metadata": {
        "id": "wcb-22WDIZLL",
        "colab": {
          "base_uri": "https://localhost:8080/",
          "height": 527
        },
        "outputId": "d6ef4067-73f6-4b8a-f5ad-93d79181b6ef"
      },
      "source": [
        "641#Problema 3.18\r\n",
        "empresas = int(input(\"Numero de empresas: \"))\r\n",
        "mes = [\"Enero\", \"Febrero\", \"Marzo\", \"Abril\", \"Mayo\", \"Junio\", \"Julio\", \"Agosto\", \"Septiembre\", \"Octubre\", \"Noviembre\", \"Diciembre\"]\r\n",
        "produccion = []\r\n",
        "totalProduccion = []\r\n",
        "mayorProduccion = 0\r\n",
        "idMayorProduccion = 0\r\n",
        "for i in range(empresas) :\r\n",
        "    aux = []\r\n",
        "    cont = 0\r\n",
        "    aux.append(int(input(\"ID: \")))\r\n",
        "    for j in mes :\r\n",
        "        print(f\"Mes de {j}\")\r\n",
        "        producto = float(input(\"Produccion: $\"))\r\n",
        "        if producto < 0 :\r\n",
        "            break\r\n",
        "        aux.append(producto)\r\n",
        "        cont += producto\r\n",
        "    produccion.append(aux)\r\n",
        "    totalProduccion.append(cont)\r\n",
        "for i in range(empresas) :\r\n",
        "    if produccion[i][7] > 3000000 :\r\n",
        "        print(f\"La empresa con el ID {produccion[i][0]} produjo mas de $3,000,000 en julio\")\r\n",
        "for index, i in enumerate(totalProduccion) :\r\n",
        "    print(f\"La empresa con el ID {produccion[index][0]} produjo ${i}\")\r\n",
        "    if i > mayorProduccion :\r\n",
        "        mayorProduccion = i\r\n",
        "        idMayorProduccion = index\r\n",
        "print(f\"La empresa con mayor produccion tiene el ID {produccion[idMayorProduccion][0]}, produjo ${mayorProduccion}\")\r\n"
      ],
      "execution_count": 23,
      "outputs": [
        {
          "output_type": "error",
          "ename": "KeyboardInterrupt",
          "evalue": "ignored",
          "traceback": [
            "\u001b[0;31m---------------------------------------------------------------------------\u001b[0m",
            "\u001b[0;31mKeyboardInterrupt\u001b[0m                         Traceback (most recent call last)",
            "\u001b[0;32m/usr/local/lib/python3.6/dist-packages/ipykernel/kernelbase.py\u001b[0m in \u001b[0;36m_input_request\u001b[0;34m(self, prompt, ident, parent, password)\u001b[0m\n\u001b[1;32m    728\u001b[0m             \u001b[0;32mtry\u001b[0m\u001b[0;34m:\u001b[0m\u001b[0;34m\u001b[0m\u001b[0;34m\u001b[0m\u001b[0m\n\u001b[0;32m--> 729\u001b[0;31m                 \u001b[0mident\u001b[0m\u001b[0;34m,\u001b[0m \u001b[0mreply\u001b[0m \u001b[0;34m=\u001b[0m \u001b[0mself\u001b[0m\u001b[0;34m.\u001b[0m\u001b[0msession\u001b[0m\u001b[0;34m.\u001b[0m\u001b[0mrecv\u001b[0m\u001b[0;34m(\u001b[0m\u001b[0mself\u001b[0m\u001b[0;34m.\u001b[0m\u001b[0mstdin_socket\u001b[0m\u001b[0;34m,\u001b[0m \u001b[0;36m0\u001b[0m\u001b[0;34m)\u001b[0m\u001b[0;34m\u001b[0m\u001b[0;34m\u001b[0m\u001b[0m\n\u001b[0m\u001b[1;32m    730\u001b[0m             \u001b[0;32mexcept\u001b[0m \u001b[0mException\u001b[0m\u001b[0;34m:\u001b[0m\u001b[0;34m\u001b[0m\u001b[0;34m\u001b[0m\u001b[0m\n",
            "\u001b[0;32m/usr/local/lib/python3.6/dist-packages/jupyter_client/session.py\u001b[0m in \u001b[0;36mrecv\u001b[0;34m(self, socket, mode, content, copy)\u001b[0m\n\u001b[1;32m    802\u001b[0m         \u001b[0;32mtry\u001b[0m\u001b[0;34m:\u001b[0m\u001b[0;34m\u001b[0m\u001b[0;34m\u001b[0m\u001b[0m\n\u001b[0;32m--> 803\u001b[0;31m             \u001b[0mmsg_list\u001b[0m \u001b[0;34m=\u001b[0m \u001b[0msocket\u001b[0m\u001b[0;34m.\u001b[0m\u001b[0mrecv_multipart\u001b[0m\u001b[0;34m(\u001b[0m\u001b[0mmode\u001b[0m\u001b[0;34m,\u001b[0m \u001b[0mcopy\u001b[0m\u001b[0;34m=\u001b[0m\u001b[0mcopy\u001b[0m\u001b[0;34m)\u001b[0m\u001b[0;34m\u001b[0m\u001b[0;34m\u001b[0m\u001b[0m\n\u001b[0m\u001b[1;32m    804\u001b[0m         \u001b[0;32mexcept\u001b[0m \u001b[0mzmq\u001b[0m\u001b[0;34m.\u001b[0m\u001b[0mZMQError\u001b[0m \u001b[0;32mas\u001b[0m \u001b[0me\u001b[0m\u001b[0;34m:\u001b[0m\u001b[0;34m\u001b[0m\u001b[0;34m\u001b[0m\u001b[0m\n",
            "\u001b[0;32m/usr/local/lib/python3.6/dist-packages/zmq/sugar/socket.py\u001b[0m in \u001b[0;36mrecv_multipart\u001b[0;34m(self, flags, copy, track)\u001b[0m\n\u001b[1;32m    565\u001b[0m         \"\"\"\n\u001b[0;32m--> 566\u001b[0;31m         \u001b[0mparts\u001b[0m \u001b[0;34m=\u001b[0m \u001b[0;34m[\u001b[0m\u001b[0mself\u001b[0m\u001b[0;34m.\u001b[0m\u001b[0mrecv\u001b[0m\u001b[0;34m(\u001b[0m\u001b[0mflags\u001b[0m\u001b[0;34m,\u001b[0m \u001b[0mcopy\u001b[0m\u001b[0;34m=\u001b[0m\u001b[0mcopy\u001b[0m\u001b[0;34m,\u001b[0m \u001b[0mtrack\u001b[0m\u001b[0;34m=\u001b[0m\u001b[0mtrack\u001b[0m\u001b[0;34m)\u001b[0m\u001b[0;34m]\u001b[0m\u001b[0;34m\u001b[0m\u001b[0;34m\u001b[0m\u001b[0m\n\u001b[0m\u001b[1;32m    567\u001b[0m         \u001b[0;31m# have first part already, only loop while more to receive\u001b[0m\u001b[0;34m\u001b[0m\u001b[0;34m\u001b[0m\u001b[0;34m\u001b[0m\u001b[0m\n",
            "\u001b[0;32mzmq/backend/cython/socket.pyx\u001b[0m in \u001b[0;36mzmq.backend.cython.socket.Socket.recv\u001b[0;34m()\u001b[0m\n",
            "\u001b[0;32mzmq/backend/cython/socket.pyx\u001b[0m in \u001b[0;36mzmq.backend.cython.socket.Socket.recv\u001b[0;34m()\u001b[0m\n",
            "\u001b[0;32mzmq/backend/cython/socket.pyx\u001b[0m in \u001b[0;36mzmq.backend.cython.socket._recv_copy\u001b[0;34m()\u001b[0m\n",
            "\u001b[0;32m/usr/local/lib/python3.6/dist-packages/zmq/backend/cython/checkrc.pxd\u001b[0m in \u001b[0;36mzmq.backend.cython.checkrc._check_rc\u001b[0;34m()\u001b[0m\n",
            "\u001b[0;31mKeyboardInterrupt\u001b[0m: ",
            "\nDuring handling of the above exception, another exception occurred:\n",
            "\u001b[0;31mKeyboardInterrupt\u001b[0m                         Traceback (most recent call last)",
            "\u001b[0;32m<ipython-input-23-97ce2e92a66b>\u001b[0m in \u001b[0;36m<module>\u001b[0;34m()\u001b[0m\n\u001b[1;32m     12\u001b[0m     \u001b[0;32mfor\u001b[0m \u001b[0mj\u001b[0m \u001b[0;32min\u001b[0m \u001b[0mmes\u001b[0m \u001b[0;34m:\u001b[0m\u001b[0;34m\u001b[0m\u001b[0;34m\u001b[0m\u001b[0m\n\u001b[1;32m     13\u001b[0m         \u001b[0mprint\u001b[0m\u001b[0;34m(\u001b[0m\u001b[0;34mf\"Mes de {j}\"\u001b[0m\u001b[0;34m)\u001b[0m\u001b[0;34m\u001b[0m\u001b[0;34m\u001b[0m\u001b[0m\n\u001b[0;32m---> 14\u001b[0;31m         \u001b[0mproducto\u001b[0m \u001b[0;34m=\u001b[0m \u001b[0mfloat\u001b[0m\u001b[0;34m(\u001b[0m\u001b[0minput\u001b[0m\u001b[0;34m(\u001b[0m\u001b[0;34m\"Produccion: $\"\u001b[0m\u001b[0;34m)\u001b[0m\u001b[0;34m)\u001b[0m\u001b[0;34m\u001b[0m\u001b[0;34m\u001b[0m\u001b[0m\n\u001b[0m\u001b[1;32m     15\u001b[0m         \u001b[0;32mif\u001b[0m \u001b[0mproducto\u001b[0m \u001b[0;34m<\u001b[0m \u001b[0;36m0\u001b[0m \u001b[0;34m:\u001b[0m\u001b[0;34m\u001b[0m\u001b[0;34m\u001b[0m\u001b[0m\n\u001b[1;32m     16\u001b[0m             \u001b[0;32mbreak\u001b[0m\u001b[0;34m\u001b[0m\u001b[0;34m\u001b[0m\u001b[0m\n",
            "\u001b[0;32m/usr/local/lib/python3.6/dist-packages/ipykernel/kernelbase.py\u001b[0m in \u001b[0;36mraw_input\u001b[0;34m(self, prompt)\u001b[0m\n\u001b[1;32m    702\u001b[0m             \u001b[0mself\u001b[0m\u001b[0;34m.\u001b[0m\u001b[0m_parent_ident\u001b[0m\u001b[0;34m,\u001b[0m\u001b[0;34m\u001b[0m\u001b[0;34m\u001b[0m\u001b[0m\n\u001b[1;32m    703\u001b[0m             \u001b[0mself\u001b[0m\u001b[0;34m.\u001b[0m\u001b[0m_parent_header\u001b[0m\u001b[0;34m,\u001b[0m\u001b[0;34m\u001b[0m\u001b[0;34m\u001b[0m\u001b[0m\n\u001b[0;32m--> 704\u001b[0;31m             \u001b[0mpassword\u001b[0m\u001b[0;34m=\u001b[0m\u001b[0;32mFalse\u001b[0m\u001b[0;34m,\u001b[0m\u001b[0;34m\u001b[0m\u001b[0;34m\u001b[0m\u001b[0m\n\u001b[0m\u001b[1;32m    705\u001b[0m         )\n\u001b[1;32m    706\u001b[0m \u001b[0;34m\u001b[0m\u001b[0m\n",
            "\u001b[0;32m/usr/local/lib/python3.6/dist-packages/ipykernel/kernelbase.py\u001b[0m in \u001b[0;36m_input_request\u001b[0;34m(self, prompt, ident, parent, password)\u001b[0m\n\u001b[1;32m    732\u001b[0m             \u001b[0;32mexcept\u001b[0m \u001b[0mKeyboardInterrupt\u001b[0m\u001b[0;34m:\u001b[0m\u001b[0;34m\u001b[0m\u001b[0;34m\u001b[0m\u001b[0m\n\u001b[1;32m    733\u001b[0m                 \u001b[0;31m# re-raise KeyboardInterrupt, to truncate traceback\u001b[0m\u001b[0;34m\u001b[0m\u001b[0;34m\u001b[0m\u001b[0;34m\u001b[0m\u001b[0m\n\u001b[0;32m--> 734\u001b[0;31m                 \u001b[0;32mraise\u001b[0m \u001b[0mKeyboardInterrupt\u001b[0m\u001b[0;34m\u001b[0m\u001b[0;34m\u001b[0m\u001b[0m\n\u001b[0m\u001b[1;32m    735\u001b[0m             \u001b[0;32melse\u001b[0m\u001b[0;34m:\u001b[0m\u001b[0;34m\u001b[0m\u001b[0;34m\u001b[0m\u001b[0m\n\u001b[1;32m    736\u001b[0m                 \u001b[0;32mbreak\u001b[0m\u001b[0;34m\u001b[0m\u001b[0;34m\u001b[0m\u001b[0m\n",
            "\u001b[0;31mKeyboardInterrupt\u001b[0m: "
          ]
        }
      ]
    },
    {
      "cell_type": "code",
      "metadata": {
        "id": "Nft-ljpSIiwy",
        "colab": {
          "base_uri": "https://localhost:8080/"
        },
        "outputId": "5be518e7-5026-449c-e79e-3808b22882e5"
      },
      "source": [
        "#Problema 3.19\r\n",
        "numero = int(input(\"Numero: \"))\r\n",
        "print(\"El numero 1 es un numero perfecto.\")\r\n",
        "for i in range(1, numero) :\r\n",
        "    cont = 0\r\n",
        "    j = 1\r\n",
        "    while j <= int(i/2) :\r\n",
        "        if i%j == 0 :\r\n",
        "            cont += j\r\n",
        "        j += 1\r\n",
        "    if cont == i :\r\n",
        "        print(f\"El numero {i} es un numero perfecto.\")\r\n",
        " "
      ],
      "execution_count": 24,
      "outputs": [
        {
          "output_type": "stream",
          "text": [
            "Numero: 253\n",
            "El numero 1 es un numero perfecto.\n",
            "El numero 6 es un numero perfecto.\n",
            "El numero 28 es un numero perfecto.\n"
          ],
          "name": "stdout"
        }
      ]
    }
  ]
}