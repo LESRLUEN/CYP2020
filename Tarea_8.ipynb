{
  "nbformat": 4,
  "nbformat_minor": 0,
  "metadata": {
    "colab": {
      "name": "Tarea_8.ipynb",
      "provenance": [],
      "authorship_tag": "ABX9TyOFQ8GY449IW9EoVRNYxD7V",
      "include_colab_link": true
    },
    "kernelspec": {
      "name": "python3",
      "display_name": "Python 3"
    }
  },
  "cells": [
    {
      "cell_type": "markdown",
      "metadata": {
        "id": "view-in-github",
        "colab_type": "text"
      },
      "source": [
        "<a href=\"https://colab.research.google.com/github/LESRLUEN/CYP2020/blob/main/Tarea_8.ipynb\" target=\"_parent\"><img src=\"https://colab.research.google.com/assets/colab-badge.svg\" alt=\"Open In Colab\"/></a>"
      ]
    },
    {
      "cell_type": "code",
      "metadata": {
        "colab": {
          "base_uri": "https://localhost:8080/"
        },
        "id": "c9o9P-_OZ3se",
        "outputId": "06aec5c0-0e95-44bb-dd67-008456aeee2d"
      },
      "source": [
        "a=\"\\u2608\"\r\n",
        "print(f\"{a}{a}{a}{a}{a}{a}{a}{a}{a}{a}{a}{a}{a}{a}{a}{a}{a}{a}{a}{a}{a}{a}{a}{a}{a}{a}{a}{a}{a}{a}{a}{a}{a}{a}{a}{a}{a}{a}{a}{a}{a}{a}{a}{a}{a}{a}{a}{a}{a}\",end = \"\")\r\n",
        "#Marco_Izquierda\r\n",
        "\r\n",
        "print(\"\\u260A\",\"\\n\\u260A\",\"\\n\\u260A\",\"\\n\\u260A\",\"\\n\\u260A\",\"\\n\\u260A\",\"\\n\\u260A\",\"\\n\\u260A\",\"\\n\\u260A\",\"\\n\\u2608\",end = \"\")\r\n",
        "print(f\"{a}{a}{a}{a}{a}{a}{a}{a}{a}{a}{a}{a}{a}{a}{a}{a}{a}{a}{a}{a}{a}{a}{a}{a}{a}{a}{a}{a}{a}{a}{a}{a}{a}{a}{a}{a}{a}{a}{a}{a}{a}{a}{a}{a}{a}{a}{a}{a}\")"
      ],
      "execution_count": 92,
      "outputs": [
        {
          "output_type": "stream",
          "text": [
            "☈☈☈☈☈☈☈☈☈☈☈☈☈☈☈☈☈☈☈☈☈☈☈☈☈☈☈☈☈☈☈☈☈☈☈☈☈☈☈☈☈☈☈☈☈☈☈☈☈☊ \n",
            "☊ \n",
            "☊ \n",
            "☊ \n",
            "☊ \n",
            "☊ \n",
            "☊ \n",
            "☊ \n",
            "☊ \n",
            "☈☈☈☈☈☈☈☈☈☈☈☈☈☈☈☈☈☈☈☈☈☈☈☈☈☈☈☈☈☈☈☈☈☈☈☈☈☈☈☈☈☈☈☈☈☈☈☈☈\n"
          ],
          "name": "stdout"
        }
      ]
    },
    {
      "cell_type": "code",
      "metadata": {
        "colab": {
          "base_uri": "https://localhost:8080/"
        },
        "id": "OWr-DS4Rdvco",
        "outputId": "b900a4fa-7b11-43dc-ee34-e50493875f2a"
      },
      "source": [
        "space = \" \"\r\n",
        "test =\"\"\r\n",
        "name = \"\\u2608\"\r\n",
        "for i in range(41):\r\n",
        "  if i % 2 == 0:\r\n",
        "    print(\"\\u2341\",end=\"\")\r\n",
        "  else:\r\n",
        "    print(\"\\u2342\",end=\"\")\r\n",
        "\r\n",
        "print(f\"\\n\\u2341{(7*space)+(6*name)+(8*space)+(name)+(5*space)+(name)+(8*space)+(name)+(6*space)+name+(8*space)+(name)+(7*space)}\",end=\"\\u2341\")\r\n",
        "print(f\"\\n\\u2342{(7*space)+(name)+(7*space)+(name)+(9*space)+(name)+(3*space)+(name)+(8*space)+(2*name)+(5*space)+(2*name)+(6*space)+(name)+(7*space)}\",end=\"\\u2342\")\r\n",
        "print(f\"\\n\\u2341{(7*space)+(name)+(7*space)+(name)+(10*space)+(name)+(space)+(name)+(8*space)+(name)+(2*space)+(name)+(4*space)+(name)+(space)+(name)+(5*space)+(name)+(7*space)}\",end=\"\\u2341\")\r\n",
        "print(f\"\\n\\u2342{(7*space)+(6*name)+(11*space)+(name)+(9*space)+(name)+(3*space)+(name)+(4*space)+(name)+(2*space)+(name)+(4*space)+(name)+(7*space)}\",end=\"\\u2342\")\r\n",
        "print(f\"\\n\\u2341{(7*space)+(name)+(4*space)+(name)+(14*space)+(name)+(8*space)+(5*name)+(3*space)+(name)+(3*space)+(name)+(3*space)+(name)+(7*space)}\",end=\"\\u2341\")\r\n",
        "print(f\"\\n\\u2342{(7*space)+(name)+(5*space)+(name)+(13*space)+(name)+(8*space)+(name)+(5*space)+(name)+(3*space)+(name)+(4*space)+(name)+(2*space)+(name)+(7*space)}\",end=\"\\u2342\")\r\n",
        "print(f\"\\n\\u2341{(7*space)+(name)+(6*space)+(name)+(12*space)+(name)+(8*space)+(name)+(5*space)+(name)+(3*space)+(name)+(5*space)+(name)+(space)+(name)+(7*space)}\",end=\"\\u2341\")\r\n",
        "print(f\"\\n\\u2342{(7*space)+(name)+(7*space)+(name)+(11*space)+(name)+(8*space)+(name)+(5*space)+(name)+(3*space)+(name)+(6*space)+(2*name)+(7*space)}\\u2342\",end=\"\\n\")\r\n",
        "for i in range(41):\r\n",
        "  if i % 2 == 0:\r\n",
        "    print(\"\\u2341\",end=\"\")\r\n",
        "  else:\r\n",
        "    print(\"\\u2342\",end=\"\")"
      ],
      "execution_count": 94,
      "outputs": [
        {
          "output_type": "stream",
          "text": [
            "⍁⍂⍁⍂⍁⍂⍁⍂⍁⍂⍁⍂⍁⍂⍁⍂⍁⍂⍁⍂⍁⍂⍁⍂⍁⍂⍁⍂⍁⍂⍁⍂⍁⍂⍁⍂⍁⍂⍁⍂⍁\n",
            "⍁       ☈☈☈☈☈☈        ☈     ☈        ☈      ☈        ☈       ⍁\n",
            "⍂       ☈       ☈         ☈   ☈        ☈☈     ☈☈      ☈       ⍂\n",
            "⍁       ☈       ☈          ☈ ☈        ☈  ☈    ☈ ☈     ☈       ⍁\n",
            "⍂       ☈☈☈☈☈☈           ☈         ☈   ☈    ☈  ☈    ☈       ⍂\n",
            "⍁       ☈    ☈              ☈        ☈☈☈☈☈   ☈   ☈   ☈       ⍁\n",
            "⍂       ☈     ☈             ☈        ☈     ☈   ☈    ☈  ☈       ⍂\n",
            "⍁       ☈      ☈            ☈        ☈     ☈   ☈     ☈ ☈       ⍁\n",
            "⍂       ☈       ☈           ☈        ☈     ☈   ☈      ☈☈       ⍂\n",
            "⍁⍂⍁⍂⍁⍂⍁⍂⍁⍂⍁⍂⍁⍂⍁⍂⍁⍂⍁⍂⍁⍂⍁⍂⍁⍂⍁⍂⍁⍂⍁⍂⍁⍂⍁⍂⍁⍂⍁⍂⍁"
          ],
          "name": "stdout"
        }
      ]
    },
    {
      "cell_type": "code",
      "metadata": {
        "colab": {
          "base_uri": "https://localhost:8080/"
        },
        "id": "pBpx56jXkv7L",
        "outputId": "8ff49d54-4dbc-44ff-f14f-534158627366"
      },
      "source": [
        "space = \" \"\r\n",
        "name = \"\\u2606\"\r\n",
        "a=\"\\u2608\"\r\n",
        "print(f\"{a}{a}{a}{a}{a}{a}{a}{a}{a}{a}{a}{a}{a}{a}{a}{a}{a}{a}{a}{a}{a}{a}{a}{a}{a}{a}{a}{a}{a}{a}{a}{a}{a}{a}{a}{a}{a}{a}{a}{a}{a}{a}{a}{a}{a}{a}{a}{a}{a}\",end = \"\")\r\n",
        "\r\n",
        "print(f\"\\n\\u260A{(7*space)+(name)+(12*space)+(name)+(8*space)+(name)+(4*space)+(7*name)+(4*space)+(7*name)+(6*space)}\",end=\"\\u260A\")\r\n",
        "print(f\"\\n\\u260B{(7*space)+(name)+(12*space)+(name)+(8*space)+(name)+(9*space)+(name)+(7*space)+(name)+(16*space)}\",end=\"\\u260B\")\r\n",
        "print(f\"\\n\\u260A{(7*space)+(name)+(12*space)+(name)+(8*space)+(name)+(9*space)+(name)+(7*space)+(name)+(16*space)}\",end=\"\\u260A\")\r\n",
        "print(f\"\\n\\u260B{(7*space)+(name)+(12*space)+(name)+(8*space)+(name)+(9*space)+(name)+(8*space)+(6*name)+(7*space)}\",end=\"\\u260B\")\r\n",
        "print(f\"\\n\\u260A{(7*space)+(name)+(12*space)+(name)+(8*space)+(name)+(9*space)+(name)+(17*space)+(name)+(6*space)}\",end=\"\\u260A\")\r\n",
        "print(f\"\\n\\u260B{(7*space)+(name)+(12*space)+(name)+(8*space)+(name)+(9*space)+(name)+(17*space)+(name)+(6*space)}\",end=\"\\u260B\")\r\n",
        "print(f\"\\n\\u260A{(7*space)+(name)+(13*space)+(name)+(6*space)+(name)+(10*space)+(name)+(16*space)+(name)+(7*space)}\",end=\"\\u260A\")\r\n",
        "print(f\"\\n\\u260B{(7*space)+(7*name)+(5*space)+(4*name)+(7*space)+(7*name)+(4*space)+(5*name)+(9*space)}\\u260B\",end=\"\\n\")\r\n",
        "print(f\"{a}{a}{a}{a}{a}{a}{a}{a}{a}{a}{a}{a}{a}{a}{a}{a}{a}{a}{a}{a}{a}{a}{a}{a}{a}{a}{a}{a}{a}{a}{a}{a}{a}{a}{a}{a}{a}{a}{a}{a}{a}{a}{a}{a}{a}{a}{a}{a}{a}\",end = \"\")\r\n"
      ],
      "execution_count": 191,
      "outputs": [
        {
          "output_type": "stream",
          "text": [
            "☈☈☈☈☈☈☈☈☈☈☈☈☈☈☈☈☈☈☈☈☈☈☈☈☈☈☈☈☈☈☈☈☈☈☈☈☈☈☈☈☈☈☈☈☈☈☈☈☈\n",
            "☊       ☆            ☆        ☆    ☆☆☆☆☆☆☆    ☆☆☆☆☆☆☆      ☊\n",
            "☋       ☆            ☆        ☆         ☆       ☆                ☋\n",
            "☊       ☆            ☆        ☆         ☆       ☆                ☊\n",
            "☋       ☆            ☆        ☆         ☆        ☆☆☆☆☆☆       ☋\n",
            "☊       ☆            ☆        ☆         ☆                 ☆      ☊\n",
            "☋       ☆            ☆        ☆         ☆                 ☆      ☋\n",
            "☊       ☆             ☆      ☆          ☆                ☆       ☊\n",
            "☋       ☆☆☆☆☆☆☆     ☆☆☆☆       ☆☆☆☆☆☆☆    ☆☆☆☆☆         ☋\n",
            "☈☈☈☈☈☈☈☈☈☈☈☈☈☈☈☈☈☈☈☈☈☈☈☈☈☈☈☈☈☈☈☈☈☈☈☈☈☈☈☈☈☈☈☈☈☈☈☈☈"
          ],
          "name": "stdout"
        }
      ]
    }
  ]
}