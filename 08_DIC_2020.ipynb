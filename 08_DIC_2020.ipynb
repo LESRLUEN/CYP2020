{
  "nbformat": 4,
  "nbformat_minor": 0,
  "metadata": {
    "colab": {
      "name": "08_DIC_2020.ipynb",
      "provenance": [],
      "authorship_tag": "ABX9TyPtovGLMyRZP3mlXzHL8xU9",
      "include_colab_link": true
    },
    "kernelspec": {
      "name": "python3",
      "display_name": "Python 3"
    }
  },
  "cells": [
    {
      "cell_type": "markdown",
      "metadata": {
        "id": "view-in-github",
        "colab_type": "text"
      },
      "source": [
        "<a href=\"https://colab.research.google.com/github/LESRLUEN/CYP2020/blob/main/08_DIC_2020.ipynb\" target=\"_parent\"><img src=\"https://colab.research.google.com/assets/colab-badge.svg\" alt=\"Open In Colab\"/></a>"
      ]
    },
    {
      "cell_type": "code",
      "metadata": {
        "colab": {
          "base_uri": "https://localhost:8080/"
        },
        "id": "zDptzt-uZY6g",
        "outputId": "de2818c8-a6c2-484c-f682-8e43ccfafee0"
      },
      "source": [
        "a = 20\r\n",
        "while(a > 10):\r\n",
        "  print(f\"A = { a }\")\r\n",
        "  a = a - 1 #a -= 1\r\n"
      ],
      "execution_count": 2,
      "outputs": [
        {
          "output_type": "stream",
          "text": [
            "A = 20\n",
            "A = 19\n",
            "A = 18\n",
            "A = 17\n",
            "A = 16\n",
            "A = 15\n",
            "A = 14\n",
            "A = 13\n",
            "A = 12\n",
            "A = 11\n"
          ],
          "name": "stdout"
        }
      ]
    },
    {
      "cell_type": "code",
      "metadata": {
        "colab": {
          "base_uri": "https://localhost:8080/"
        },
        "id": "xib6mz99acB7",
        "outputId": "d7aca0be-da95-4517-b7b9-a81a4754b06f"
      },
      "source": [
        "suma_gas = 0\r\n",
        "gasto = float(input(\"Introduce un gasto: \"))\r\n",
        "while( gasto != -1):\r\n",
        "  suma_gas = suma_gas +gasto \r\n",
        "  gasto = float(input(\"Introduce un gasto: \"))\r\n",
        "print(f\"La suma total es {suma_gas} pesos\")"
      ],
      "execution_count": 3,
      "outputs": [
        {
          "output_type": "stream",
          "text": [
            "Introduce un gasto: 1.5\n",
            "Introduce un gasto: 2.2\n",
            "Introduce un gasto: 1.1\n",
            "Introduce un gasto: -1\n",
            "La suma total es 4.800000000000001 pesos\n"
          ],
          "name": "stdout"
        }
      ]
    },
    {
      "cell_type": "code",
      "metadata": {
        "colab": {
          "base_uri": "https://localhost:8080/"
        },
        "id": "9OXRb6vNdM_t",
        "outputId": "63ac77c3-764c-46fc-ac7f-342a5e5e3cf5"
      },
      "source": [
        "#Ejemplo 3.5\r\n",
        "\r\n",
        "cub = 0\r\n",
        "num = float(input(\"Ingrese el numero\"))\r\n",
        "\r\n",
        "while num != -1:\r\n",
        "  cub = num ** 3\r\n",
        "  print(f\"el cubo del numero {num} es: {cub}\")\r\n",
        "  num = float(input(\"Ingrese el numero\"))\r\n",
        "print(\"Fin del progrma  []\")"
      ],
      "execution_count": 5,
      "outputs": [
        {
          "output_type": "stream",
          "text": [
            "Ingrese el numero96\n",
            "el cubo del numero 96.0 es: 884736.0\n",
            "Ingrese el numero55\n",
            "el cubo del numero 55.0 es: 166375.0\n",
            "Ingrese el numero1\n",
            "el cubo del numero 1.0 es: 1.0\n",
            "Ingrese el numero-1\n"
          ],
          "name": "stdout"
        }
      ]
    },
    {
      "cell_type": "code",
      "metadata": {
        "colab": {
          "base_uri": "https://localhost:8080/"
        },
        "id": "TXxgb7JxkMn2",
        "outputId": "baa8d0e0-cbea-4fdc-a827-434ff944fb19"
      },
      "source": [
        "# Problema 3.1\r\n",
        "\r\n",
        "sumpar = 0\r\n",
        "sumimp = 0\r\n",
        "cuepar = 0\r\n",
        "I = 1\r\n",
        "while I <= 5:\r\n",
        "  num = int(input(\" Introduce un numero entero: \"))\r\n",
        "  if num != 0:\r\n",
        "    if ((-1) ** num) > 0: # num % 2\r\n",
        "      sumpar = sumpar + num\r\n",
        "      cuepar = cuepar + 1\r\n",
        "    else:\r\n",
        "       sumimp = sumimp + num \r\n",
        "  I = I + 1\r\n",
        "propar= sumpar / cuepar\r\n",
        "print(f\" El promedio de los pares es: {propar} \") \r\n",
        "print(f\" La suma de los impares es: {sumimp}\")"
      ],
      "execution_count": 6,
      "outputs": [
        {
          "output_type": "stream",
          "text": [
            " Introduce un numero entero: 5\n",
            " Introduce un numero entero: 6\n",
            " Introduce un numero entero: 1\n",
            " Introduce un numero entero: 2\n",
            " Introduce un numero entero: 3\n",
            " El promedio de los pares es: 4.0 \n",
            " La suma de los impares es: 9\n"
          ],
          "name": "stdout"
        }
      ]
    },
    {
      "cell_type": "code",
      "metadata": {
        "colab": {
          "base_uri": "https://localhost:8080/"
        },
        "id": "PvZ4ri7MksSb",
        "outputId": "132a9968-883c-42c6-de7b-6cb1ea9df58a"
      },
      "source": [
        "band = True\r\n",
        "sumser = 0\r\n",
        "I = 2\r\n",
        "while I <= 1800:\r\n",
        "  sumser = sumser + I\r\n",
        "  print(f\"{ I } , \", end=\"\")\r\n",
        "  if band == True:\r\n",
        "    band = False\r\n",
        "    I = I + 3\r\n",
        "  else:\r\n",
        "    band = False\r\n",
        "    I = I + 2\r\n",
        "print(\"La suma de la serie es:\", sumser)"
      ],
      "execution_count": 10,
      "outputs": [
        {
          "output_type": "stream",
          "text": [
            "2 , 5 , 7 , 9 , 11 , 13 , 15 , 17 , 19 , 21 , 23 , 25 , 27 , 29 , 31 , 33 , 35 , 37 , 39 , 41 , 43 , 45 , 47 , 49 , 51 , 53 , 55 , 57 , 59 , 61 , 63 , 65 , 67 , 69 , 71 , 73 , 75 , 77 , 79 , 81 , 83 , 85 , 87 , 89 , 91 , 93 , 95 , 97 , 99 , 101 , 103 , 105 , 107 , 109 , 111 , 113 , 115 , 117 , 119 , 121 , 123 , 125 , 127 , 129 , 131 , 133 , 135 , 137 , 139 , 141 , 143 , 145 , 147 , 149 , 151 , 153 , 155 , 157 , 159 , 161 , 163 , 165 , 167 , 169 , 171 , 173 , 175 , 177 , 179 , 181 , 183 , 185 , 187 , 189 , 191 , 193 , 195 , 197 , 199 , 201 , 203 , 205 , 207 , 209 , 211 , 213 , 215 , 217 , 219 , 221 , 223 , 225 , 227 , 229 , 231 , 233 , 235 , 237 , 239 , 241 , 243 , 245 , 247 , 249 , 251 , 253 , 255 , 257 , 259 , 261 , 263 , 265 , 267 , 269 , 271 , 273 , 275 , 277 , 279 , 281 , 283 , 285 , 287 , 289 , 291 , 293 , 295 , 297 , 299 , 301 , 303 , 305 , 307 , 309 , 311 , 313 , 315 , 317 , 319 , 321 , 323 , 325 , 327 , 329 , 331 , 333 , 335 , 337 , 339 , 341 , 343 , 345 , 347 , 349 , 351 , 353 , 355 , 357 , 359 , 361 , 363 , 365 , 367 , 369 , 371 , 373 , 375 , 377 , 379 , 381 , 383 , 385 , 387 , 389 , 391 , 393 , 395 , 397 , 399 , 401 , 403 , 405 , 407 , 409 , 411 , 413 , 415 , 417 , 419 , 421 , 423 , 425 , 427 , 429 , 431 , 433 , 435 , 437 , 439 , 441 , 443 , 445 , 447 , 449 , 451 , 453 , 455 , 457 , 459 , 461 , 463 , 465 , 467 , 469 , 471 , 473 , 475 , 477 , 479 , 481 , 483 , 485 , 487 , 489 , 491 , 493 , 495 , 497 , 499 , 501 , 503 , 505 , 507 , 509 , 511 , 513 , 515 , 517 , 519 , 521 , 523 , 525 , 527 , 529 , 531 , 533 , 535 , 537 , 539 , 541 , 543 , 545 , 547 , 549 , 551 , 553 , 555 , 557 , 559 , 561 , 563 , 565 , 567 , 569 , 571 , 573 , 575 , 577 , 579 , 581 , 583 , 585 , 587 , 589 , 591 , 593 , 595 , 597 , 599 , 601 , 603 , 605 , 607 , 609 , 611 , 613 , 615 , 617 , 619 , 621 , 623 , 625 , 627 , 629 , 631 , 633 , 635 , 637 , 639 , 641 , 643 , 645 , 647 , 649 , 651 , 653 , 655 , 657 , 659 , 661 , 663 , 665 , 667 , 669 , 671 , 673 , 675 , 677 , 679 , 681 , 683 , 685 , 687 , 689 , 691 , 693 , 695 , 697 , 699 , 701 , 703 , 705 , 707 , 709 , 711 , 713 , 715 , 717 , 719 , 721 , 723 , 725 , 727 , 729 , 731 , 733 , 735 , 737 , 739 , 741 , 743 , 745 , 747 , 749 , 751 , 753 , 755 , 757 , 759 , 761 , 763 , 765 , 767 , 769 , 771 , 773 , 775 , 777 , 779 , 781 , 783 , 785 , 787 , 789 , 791 , 793 , 795 , 797 , 799 , 801 , 803 , 805 , 807 , 809 , 811 , 813 , 815 , 817 , 819 , 821 , 823 , 825 , 827 , 829 , 831 , 833 , 835 , 837 , 839 , 841 , 843 , 845 , 847 , 849 , 851 , 853 , 855 , 857 , 859 , 861 , 863 , 865 , 867 , 869 , 871 , 873 , 875 , 877 , 879 , 881 , 883 , 885 , 887 , 889 , 891 , 893 , 895 , 897 , 899 , 901 , 903 , 905 , 907 , 909 , 911 , 913 , 915 , 917 , 919 , 921 , 923 , 925 , 927 , 929 , 931 , 933 , 935 , 937 , 939 , 941 , 943 , 945 , 947 , 949 , 951 , 953 , 955 , 957 , 959 , 961 , 963 , 965 , 967 , 969 , 971 , 973 , 975 , 977 , 979 , 981 , 983 , 985 , 987 , 989 , 991 , 993 , 995 , 997 , 999 , 1001 , 1003 , 1005 , 1007 , 1009 , 1011 , 1013 , 1015 , 1017 , 1019 , 1021 , 1023 , 1025 , 1027 , 1029 , 1031 , 1033 , 1035 , 1037 , 1039 , 1041 , 1043 , 1045 , 1047 , 1049 , 1051 , 1053 , 1055 , 1057 , 1059 , 1061 , 1063 , 1065 , 1067 , 1069 , 1071 , 1073 , 1075 , 1077 , 1079 , 1081 , 1083 , 1085 , 1087 , 1089 , 1091 , 1093 , 1095 , 1097 , 1099 , 1101 , 1103 , 1105 , 1107 , 1109 , 1111 , 1113 , 1115 , 1117 , 1119 , 1121 , 1123 , 1125 , 1127 , 1129 , 1131 , 1133 , 1135 , 1137 , 1139 , 1141 , 1143 , 1145 , 1147 , 1149 , 1151 , 1153 , 1155 , 1157 , 1159 , 1161 , 1163 , 1165 , 1167 , 1169 , 1171 , 1173 , 1175 , 1177 , 1179 , 1181 , 1183 , 1185 , 1187 , 1189 , 1191 , 1193 , 1195 , 1197 , 1199 , 1201 , 1203 , 1205 , 1207 , 1209 , 1211 , 1213 , 1215 , 1217 , 1219 , 1221 , 1223 , 1225 , 1227 , 1229 , 1231 , 1233 , 1235 , 1237 , 1239 , 1241 , 1243 , 1245 , 1247 , 1249 , 1251 , 1253 , 1255 , 1257 , 1259 , 1261 , 1263 , 1265 , 1267 , 1269 , 1271 , 1273 , 1275 , 1277 , 1279 , 1281 , 1283 , 1285 , 1287 , 1289 , 1291 , 1293 , 1295 , 1297 , 1299 , 1301 , 1303 , 1305 , 1307 , 1309 , 1311 , 1313 , 1315 , 1317 , 1319 , 1321 , 1323 , 1325 , 1327 , 1329 , 1331 , 1333 , 1335 , 1337 , 1339 , 1341 , 1343 , 1345 , 1347 , 1349 , 1351 , 1353 , 1355 , 1357 , 1359 , 1361 , 1363 , 1365 , 1367 , 1369 , 1371 , 1373 , 1375 , 1377 , 1379 , 1381 , 1383 , 1385 , 1387 , 1389 , 1391 , 1393 , 1395 , 1397 , 1399 , 1401 , 1403 , 1405 , 1407 , 1409 , 1411 , 1413 , 1415 , 1417 , 1419 , 1421 , 1423 , 1425 , 1427 , 1429 , 1431 , 1433 , 1435 , 1437 , 1439 , 1441 , 1443 , 1445 , 1447 , 1449 , 1451 , 1453 , 1455 , 1457 , 1459 , 1461 , 1463 , 1465 , 1467 , 1469 , 1471 , 1473 , 1475 , 1477 , 1479 , 1481 , 1483 , 1485 , 1487 , 1489 , 1491 , 1493 , 1495 , 1497 , 1499 , 1501 , 1503 , 1505 , 1507 , 1509 , 1511 , 1513 , 1515 , 1517 , 1519 , 1521 , 1523 , 1525 , 1527 , 1529 , 1531 , 1533 , 1535 , 1537 , 1539 , 1541 , 1543 , 1545 , 1547 , 1549 , 1551 , 1553 , 1555 , 1557 , 1559 , 1561 , 1563 , 1565 , 1567 , 1569 , 1571 , 1573 , 1575 , 1577 , 1579 , 1581 , 1583 , 1585 , 1587 , 1589 , 1591 , 1593 , 1595 , 1597 , 1599 , 1601 , 1603 , 1605 , 1607 , 1609 , 1611 , 1613 , 1615 , 1617 , 1619 , 1621 , 1623 , 1625 , 1627 , 1629 , 1631 , 1633 , 1635 , 1637 , 1639 , 1641 , 1643 , 1645 , 1647 , 1649 , 1651 , 1653 , 1655 , 1657 , 1659 , 1661 , 1663 , 1665 , 1667 , 1669 , 1671 , 1673 , 1675 , 1677 , 1679 , 1681 , 1683 , 1685 , 1687 , 1689 , 1691 , 1693 , 1695 , 1697 , 1699 , 1701 , 1703 , 1705 , 1707 , 1709 , 1711 , 1713 , 1715 , 1717 , 1719 , 1721 , 1723 , 1725 , 1727 , 1729 , 1731 , 1733 , 1735 , 1737 , 1739 , 1741 , 1743 , 1745 , 1747 , 1749 , 1751 , 1753 , 1755 , 1757 , 1759 , 1761 , 1763 , 1765 , 1767 , 1769 , 1771 , 1773 , 1775 , 1777 , 1779 , 1781 , 1783 , 1785 , 1787 , 1789 , 1791 , 1793 , 1795 , 1797 , 1799 , La suma de la serie es: 809998\n"
          ],
          "name": "stdout"
        }
      ]
    },
    {
      "cell_type": "code",
      "metadata": {
        "id": "nTA3AE8HqToS"
      },
      "source": [
        "s1 = 0\r\n",
        "s2 = 0\r\n",
        "s3 = 0\r\n",
        "#...\r\n",
        "s70 = 0\r\n",
        "\r\n",
        "s1 = flost(input(dame el sueldo))\r\n",
        "s2 = flost(input(dame el sueldo))\r\n",
        "s3 = flost(input(dame el sueldo))\r\n",
        "#...\r\n",
        "s70 = flost(input(dame el sueldo))"
      ],
      "execution_count": null,
      "outputs": []
    },
    {
      "cell_type": "code",
      "metadata": {
        "colab": {
          "base_uri": "https://localhost:8080/"
        },
        "id": "45O9f6rKrZFD",
        "outputId": "9a115f93-a93c-4e19-ce48-375958c98098"
      },
      "source": [
        "#Ejemplos de arreglos\r\n",
        "\"\"\"\r\n",
        "en python no existen el tipo de dato especial arreglo.\r\n",
        "en su lugar existe el tipo de dato nativo list que\r\n",
        "funciona de manera semejante.\r\n",
        "Ejemplo: Declarar un arreglo de 70 elementos de tipo float para almacenar \r\n",
        "sueldos.\r\n",
        "\"\"\"\r\n",
        "\r\n",
        "sueldos = [0.0 for x in range(7)]\r\n",
        "print(sueldos)\r\n",
        "sueldos[0] = 200.5\r\n",
        "print(sueldos)\r\n",
        "sueldos[4] = 77.77\r\n",
        "print(sueldos)\r\n",
        "\"\"\"\r\n",
        "en lenguaje C un arreglo se declara de la forma \r\n",
        "float sueldos [7]={0.0};\r\n",
        "En java seria asi:\r\n",
        "float[] sueldos = new int[7]={0.0};\r\n",
        "\r\n",
        "ambos, cambiar el valor del primer elemento\r\n",
        "sueldos[0]=44.44;\r\n",
        "\r\n",
        "\"\"\""
      ],
      "execution_count": 12,
      "outputs": [
        {
          "output_type": "stream",
          "text": [
            "[0.0, 0.0, 0.0, 0.0, 0.0, 0.0, 0.0]\n",
            "[200.5, 0.0, 0.0, 0.0, 0.0, 0.0, 0.0]\n",
            "[200.5, 0.0, 0.0, 0.0, 77.77, 0.0, 0.0]\n"
          ],
          "name": "stdout"
        }
      ]
    },
    {
      "cell_type": "code",
      "metadata": {
        "colab": {
          "base_uri": "https://localhost:8080/"
        },
        "id": "gb7rdbbVuB_T",
        "outputId": "4beb27db-e0b6-49ca-b47c-4d6f9e0472f2"
      },
      "source": [
        "s = [0.0 for x in range(7)] #generador de python\r\n",
        "for j in range ( 7 ):\r\n",
        "  s[j] = float(input(\"Introduce un sueldo: \"))\r\n",
        "print(s)\r\n",
        "\r\n",
        "print(\"-----------------------------------\")\r\n",
        "for j in range(7):\r\n",
        "  print( s[j] )"
      ],
      "execution_count": 16,
      "outputs": [
        {
          "output_type": "stream",
          "text": [
            "Introduce un sueldo: 55\n",
            "Introduce un sueldo: 446.36\n",
            "Introduce un sueldo: 33.589\n",
            "Introduce un sueldo: 256.25\n",
            "Introduce un sueldo: 32.657\n",
            "Introduce un sueldo: 598.3256\n",
            "Introduce un sueldo: 659.32\n",
            "[55.0, 446.36, 33.589, 256.25, 32.657, 598.3256, 659.32]\n",
            "-----------------------------------\n",
            "55.0\n",
            "446.36\n",
            "33.589\n",
            "256.25\n",
            "32.657\n",
            "598.3256\n",
            "659.32\n"
          ],
          "name": "stdout"
        }
      ]
    }
  ]
}