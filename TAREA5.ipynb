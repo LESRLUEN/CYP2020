{
  "nbformat": 4,
  "nbformat_minor": 0,
  "metadata": {
    "colab": {
      "name": "TAREA5.ipynb",
      "provenance": [],
      "authorship_tag": "ABX9TyNGUrUq+IEgJsrcnZM1DXSZ",
      "include_colab_link": true
    },
    "kernelspec": {
      "name": "python3",
      "display_name": "Python 3"
    }
  },
  "cells": [
    {
      "cell_type": "markdown",
      "metadata": {
        "id": "view-in-github",
        "colab_type": "text"
      },
      "source": [
        "<a href=\"https://colab.research.google.com/github/LESRLUEN/CYP2020/blob/main/TAREA5.ipynb\" target=\"_parent\"><img src=\"https://colab.research.google.com/assets/colab-badge.svg\" alt=\"Open In Colab\"/></a>"
      ]
    },
    {
      "cell_type": "code",
      "metadata": {
        "colab": {
          "base_uri": "https://localhost:8080/"
        },
        "id": "6_8D6WPsnWH4",
        "outputId": "588b4ff6-b4fe-4b39-bebc-330b3c802a42"
      },
      "source": [
        "#Ejercicio 3.1\n",
        "import array\n",
        "array.array('f')\n",
        "sueldos = array.array('f',(0 for i in range(0, 10)))\n",
        "\n",
        "nomina = float(0)\n",
        "\n",
        "for i in range (0, 10): #Lleva el control del numero de sueldos \n",
        "  sueldos[i] = int(input(f\"Ingresa el {i+1} sueldo: \")) #el +1 es principalmente porque el array empieza en el 0 y asi empieza en la posicion 1\n",
        "  nomina += sueldos[i]\n",
        "\n",
        "print(\"La nomina de la empresa con base a los sueldos es: \", nomina)\n"
      ],
      "execution_count": 5,
      "outputs": [
        {
          "output_type": "stream",
          "text": [
            "Ingresa el 1 sueldo: 5\n",
            "Ingresa el 2 sueldo: 5\n",
            "Ingresa el 3 sueldo: 5\n",
            "Ingresa el 4 sueldo: 555\n",
            "Ingresa el 5 sueldo: 5\n",
            "Ingresa el 6 sueldo: 5\n",
            "Ingresa el 7 sueldo: 5\n",
            "Ingresa el 8 sueldo: 5\n",
            "Ingresa el 9 sueldo: 5\n",
            "Ingresa el 10 sueldo: 5\n",
            "La nomina de la empresa con base a los sueldos es:  600.0\n"
          ],
          "name": "stdout"
        }
      ]
    },
    {
      "cell_type": "code",
      "metadata": {
        "colab": {
          "base_uri": "https://localhost:8080/"
        },
        "id": "lPDPUe3Pnh5b",
        "outputId": "920c51af-bb20-44bf-906d-157188ae5c50"
      },
      "source": [
        "#Ejercicio 3.4\n",
        "\n",
        "import array\n",
        "array.array('f')\n",
        "gastos = array.array('f',(0 for i in range(0, 999)))\n",
        "a = int(0)\n",
        "yes_no = ''\n",
        "total_gastos = float(0)\n",
        "\n",
        "while True:\n",
        "  gastos[a] = float(input(f\"¿De cuanto fue el {a+1} gasto?: \"))\n",
        "  total_gastos += gastos[a]\n",
        "  while True: \n",
        "    yes_no = ''\n",
        "    yes_no = str(input(\"¿Hubo algún otro gasto? S/N: \"))#continuar el ciclo o salir\n",
        "    if yes_no == 's' or yes_no == 'S' or yes_no == 'n' or yes_no == 'N':\n",
        "      break;\n",
        "    else:\n",
        "      print(\"Debes ingresar S o N para continuar.\\n\")#continuar el ciclo o salir\n",
        "  if yes_no == 'n' or yes_no == 'N':\n",
        "    break;\n",
        "  elif yes_no == 's' or yes_no == 'S':\n",
        "    a += 1\n",
        "\n",
        "print(\"\\nEl total de gastos durante el viaje es de: \",total_gastos)\n",
        "print(\"\\nLos gastos individuales son:\\n\")\n",
        "\n",
        "for i in range (0, a+1):\n",
        "  print(f\"{i+1} gasto es de: {gastos[i]}\")"
      ],
      "execution_count": 2,
      "outputs": [
        {
          "output_type": "stream",
          "text": [
            "¿De cuanto fue el 1 gasto?: 0\n",
            "¿Hubo algún otro gasto? S/N: 2528\n",
            "Debes ingresar S o N para continuar.\n",
            "\n",
            "¿Hubo algún otro gasto? S/N: s\n",
            "¿De cuanto fue el 2 gasto?: 2528\n",
            "¿Hubo algún otro gasto? S/N: s\n",
            "¿De cuanto fue el 3 gasto?: 5689\n",
            "¿Hubo algún otro gasto? S/N: n\n",
            "\n",
            "El total de gastos durante el viaje es de:  8217.0\n",
            "\n",
            "Los gastos individuales son:\n",
            "\n",
            "1 gasto es de: 0.0\n",
            "2 gasto es de: 2528.0\n",
            "3 gasto es de: 5689.0\n"
          ],
          "name": "stdout"
        }
      ]
    }
  ]
}