{
  "nbformat": 4,
  "nbformat_minor": 0,
  "metadata": {
    "colab": {
      "name": "TAREA5.ipynb",
      "provenance": [],
      "authorship_tag": "ABX9TyMyuavsnKbe4vd3PZT9j/ES",
      "include_colab_link": true
    },
    "kernelspec": {
      "name": "python3",
      "display_name": "Python 3"
    }
  },
  "cells": [
    {
      "cell_type": "markdown",
      "metadata": {
        "id": "view-in-github",
        "colab_type": "text"
      },
      "source": [
        "<a href=\"https://colab.research.google.com/github/LESRLUEN/CYP2020/blob/main/TAREA5.ipynb\" target=\"_parent\"><img src=\"https://colab.research.google.com/assets/colab-badge.svg\" alt=\"Open In Colab\"/></a>"
      ]
    },
    {
      "cell_type": "code",
      "metadata": {
        "colab": {
          "base_uri": "https://localhost:8080/"
        },
        "id": "6_8D6WPsnWH4",
        "outputId": "7b45768b-fe9b-49db-a4c2-8f421f0762fe"
      },
      "source": [
        "#Ejercicio 3.1\n",
        "import array\n",
        "array.array('f')\n",
        "sueldos = array.array('f',(0 for i in range(0, 10)))\n",
        "\n",
        "nomina = float(0)\n",
        "\n",
        "for i in range (0, 10):\n",
        "  sueldos[i] = int(input(f\"Ingresa el {i+1} sueldo: \"))\n",
        "  nomina += sueldos[i]\n",
        "\n",
        "print(\"La nomina de la empresa con base a los sueldos es: \", nomina)\n",
        "\n",
        "#EL LIBRO TIENE MARCADO QUE NO SE DEBE REALIZAR EL ALGORITMO CON NINGUNA ESTRUCTURA DE REPETICIÓN. SIN EMBARGO, ESE ES EL TEMA Y EL PRIMER EJEMPLO\n",
        "#DE DICHA SECCIÓN DEL LIBRO. MARCARÉ EN COMENTARIOS ÉSTE EJERCICIO SIN USAR FOR, WHILE, DO WHILE.\n",
        "\n",
        "#sueldo1 = 0, sueldo2 = 0, sueldo3 = 0, sueldo4 = 0, sueldo5 = 0, sueldo6 = 0, sueldo7 = 0, sueldo8 = 0, sueldo9 = 0, sueldo10 = 0\n",
        "#nomina = float(0)\n",
        "\n",
        "#sueldo1 = float(input(\"Ingresa el primer sueldo: \"))\n",
        "#sueldo2 = float(input(\"Ingresa el segundo sueldo: \"))\n",
        "#sueldo3 = float(input(\"Ingresa el tercer sueldo: \"))\n",
        "#sueldo4 = float(input(\"Ingresa el cuarto sueldo: \"))\n",
        "#sueldo5 = float(input(\"Ingresa el quinto sueldo: \"))\n",
        "#sueldo6 = float(input(\"Ingresa el sexto sueldo: \"))\n",
        "#sueldo7 = float(input(\"Ingresa el séptimo sueldo: \"))\n",
        "#sueldo8 = float(input(\"Ingresa el octavo sueldo: \"))\n",
        "#sueldo9 = float(input(\"Ingresa el noveno sueldo: \"))\n",
        "#sueldo10 = float(input(\"Ingresa el décimo sueldo: \"))\n",
        "\n",
        "#nomina = sueldo1 + sueldo2 + sueldo3 + sueldo4 + sueldo5 + sueldo6 + sueldo7 + sueldo8 + sueldo9 + sueldo10\n",
        "\n",
        "#print(\"La nomina de la empresa es: \",nomina)"
      ],
      "execution_count": 1,
      "outputs": [
        {
          "output_type": "stream",
          "text": [
            "Ingresa el 1 sueldo: 459\n",
            "Ingresa el 2 sueldo: 2368\n",
            "Ingresa el 3 sueldo: 5698\n",
            "Ingresa el 4 sueldo: 4125\n",
            "Ingresa el 5 sueldo: 3256\n",
            "Ingresa el 6 sueldo: 1457\n",
            "Ingresa el 7 sueldo: 2578\n",
            "Ingresa el 8 sueldo: 9874\n",
            "Ingresa el 9 sueldo: 2544\n",
            "Ingresa el 10 sueldo: 9999\n",
            "La nomina de la empresa con base a los sueldos es:  42358.0\n"
          ],
          "name": "stdout"
        }
      ]
    },
    {
      "cell_type": "code",
      "metadata": {
        "colab": {
          "base_uri": "https://localhost:8080/"
        },
        "id": "lPDPUe3Pnh5b",
        "outputId": "920c51af-bb20-44bf-906d-157188ae5c50"
      },
      "source": [
        "#Ejercicio 3.4\n",
        "\n",
        "import array\n",
        "array.array('f')\n",
        "gastos = array.array('f',(0 for i in range(0, 999)))\n",
        "a = int(0)\n",
        "yes_no = ''\n",
        "total_gastos = float(0)\n",
        "\n",
        "while True:\n",
        "  gastos[a] = float(input(f\"¿De cuanto fue el {a+1} gasto?: \"))\n",
        "  total_gastos += gastos[a]\n",
        "  while True:\n",
        "    yes_no = ''\n",
        "    yes_no = str(input(\"¿Hubo algún otro gasto? S/N: \"))\n",
        "    if yes_no == 's' or yes_no == 'S' or yes_no == 'n' or yes_no == 'N':\n",
        "      break;\n",
        "    else:\n",
        "      print(\"Debes ingresar S o N para continuar.\\n\")\n",
        "  if yes_no == 'n' or yes_no == 'N':\n",
        "    break;\n",
        "  elif yes_no == 's' or yes_no == 'S':\n",
        "    a += 1\n",
        "\n",
        "print(\"\\nEl total de gastos durante el viaje es de: \",total_gastos)\n",
        "print(\"\\nLos gastos individuales son:\\n\")\n",
        "\n",
        "for i in range (0, a+1):\n",
        "  print(f\"{i+1} gasto es de: {gastos[i]}\")"
      ],
      "execution_count": 2,
      "outputs": [
        {
          "output_type": "stream",
          "text": [
            "¿De cuanto fue el 1 gasto?: 0\n",
            "¿Hubo algún otro gasto? S/N: 2528\n",
            "Debes ingresar S o N para continuar.\n",
            "\n",
            "¿Hubo algún otro gasto? S/N: s\n",
            "¿De cuanto fue el 2 gasto?: 2528\n",
            "¿Hubo algún otro gasto? S/N: s\n",
            "¿De cuanto fue el 3 gasto?: 5689\n",
            "¿Hubo algún otro gasto? S/N: n\n",
            "\n",
            "El total de gastos durante el viaje es de:  8217.0\n",
            "\n",
            "Los gastos individuales son:\n",
            "\n",
            "1 gasto es de: 0.0\n",
            "2 gasto es de: 2528.0\n",
            "3 gasto es de: 5689.0\n"
          ],
          "name": "stdout"
        }
      ]
    }
  ]
}