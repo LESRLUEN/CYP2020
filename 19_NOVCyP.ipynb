{
  "nbformat": 4,
  "nbformat_minor": 0,
  "metadata": {
    "colab": {
      "name": "19_NOVCyP.ipynb",
      "provenance": [],
      "collapsed_sections": [],
      "authorship_tag": "ABX9TyOE2+yLcOJDxKXb01U5AFVj",
      "include_colab_link": true
    },
    "kernelspec": {
      "name": "python3",
      "display_name": "Python 3"
    }
  },
  "cells": [
    {
      "cell_type": "markdown",
      "metadata": {
        "id": "view-in-github",
        "colab_type": "text"
      },
      "source": [
        "<a href=\"https://colab.research.google.com/github/LESRLUEN/CYP2020/blob/main/19_NOVCyP.ipynb\" target=\"_parent\"><img src=\"https://colab.research.google.com/assets/colab-badge.svg\" alt=\"Open In Colab\"/></a>"
      ]
    },
    {
      "cell_type": "code",
      "metadata": {
        "colab": {
          "base_uri": "https://localhost:8080/"
        },
        "id": "XQVz8JsShb6_",
        "outputId": "b3ea4405-129d-4388-eea0-6f7198ce977e"
      },
      "source": [
        "#CONCEPTO DE ASIGNACION\n",
        "I = 0\n",
        "I = I + 1\n",
        "I = I + 1\n",
        "print(f\"I = { I } \" )\n",
        "\n",
        "J = 5 ** 2 / 3\n",
        "print(f\"J = { J } \" )"
      ],
      "execution_count": 2,
      "outputs": [
        {
          "output_type": "stream",
          "text": [
            "I = 2 \n",
            "J = 8.333333333333334 \n"
          ],
          "name": "stdout"
        }
      ]
    },
    {
      "cell_type": "code",
      "metadata": {
        "colab": {
          "base_uri": "https://localhost:8080/"
        },
        "id": "6kp2bQaPm0yn",
        "outputId": "34057cec-3e01-4a0d-dc2f-00bf7e46ed5e"
      },
      "source": [
        "#DECLARACION DE VARIABLES\n",
        "\n",
        "A = 0\n",
        "B = 0\n",
        "C = 0 \n",
        "D = 0\n",
        "\n",
        "A = int(input( \"Dame un valor entero: \"))\n",
        "B = int(input( \"Dame un valor entero: \"))\n",
        "C = int(input( \"Dame un valor entero: \"))\n",
        "D = int(input( \"Dame un valor entero: \"))\n",
        "\n",
        "print(D)\n",
        "print(C)\n",
        "print(B)\n",
        "print(A)"
      ],
      "execution_count": 6,
      "outputs": [
        {
          "output_type": "stream",
          "text": [
            "Dame un valor entero: 5\n",
            "Dame un valor entero: 6\n",
            "Dame un valor entero: 9\n",
            "Dame un valor entero: 6\n",
            "6\n",
            "9\n",
            "6\n",
            "5\n"
          ],
          "name": "stdout"
        }
      ]
    },
    {
      "cell_type": "code",
      "metadata": {
        "colab": {
          "base_uri": "https://localhost:8080/"
        },
        "id": "IxUNOUBepSoE",
        "outputId": "079bb5f3-f6a9-4a63-b383-fa618c8da35a"
      },
      "source": [
        "#EJEMPLO1.7\n",
        "A = 0\n",
        "B= 0\n",
        "A = int( input(\" dame un entero: \"))\n",
        "B = int( input(\" dame otro entero: \"))\n",
        "RES = ( A + B ) ** 2 / 3\n",
        "print(RES)\n"
      ],
      "execution_count": 5,
      "outputs": [
        {
          "output_type": "stream",
          "text": [
            " dame un entero: 14\n",
            " dame otro entero: -5\n",
            "27.0\n"
          ],
          "name": "stdout"
        }
      ]
    },
    {
      "cell_type": "code",
      "metadata": {
        "colab": {
          "base_uri": "https://localhost:8080/"
        },
        "id": "yUrLYubCttBN",
        "outputId": "8c0d49a5-1e9f-4758-f9f5-e18292753b1f"
      },
      "source": [
        "#ejemplo 1.8\n",
        "mat = 0\n",
        "cal=0\n",
        "cal2=0\n",
        "cal3=0\n",
        "cal4=0\n",
        "cal5=0\n",
        "pro =0\n",
        "\n",
        "mat =  input(\" dame la matricula \")\n",
        "\n",
        "cal = float( input(\" dame la primer calificacion \"))\n",
        "cal2 = float( input(\" dame la segunda calificacion \"))\n",
        "cal3 = float( input(\" dame la tercera calificacion \"))\n",
        "cal4 = float( input(\" dame la cuarta calificacion \"))\n",
        "cal5 = float( input(\" dame la quinta calificacion \"))\n",
        "\n",
        "pro = (cal+cal2+cal3+cal4+cal5)/5\n",
        "\n",
        "print(\"Su matricula es: \",mat )\n",
        "print(\"su promedio es: \",pro)"
      ],
      "execution_count": 8,
      "outputs": [
        {
          "output_type": "stream",
          "text": [
            " dame la matricula 31825HJG6\n",
            " dame la primer calificacion 10\n",
            " dame la segunda calificacion 6\n",
            " dame la tercera calificacion 2\n",
            " dame la cuarta calificacion 3\n",
            " dame la quinta calificacion 10\n",
            "Su matricula es:  31825HJG6\n",
            "su promedio es:  6.2\n"
          ],
          "name": "stdout"
        }
      ]
    },
    {
      "cell_type": "code",
      "metadata": {
        "id": "kz5ywA2tyItL"
      },
      "source": [
        "#ejemplo 1.9\n",
        "num=0\n",
        "num =  int(input(\" dame un numero entero \"))\n",
        "\n",
        "cua = num ** num  \n",
        "cub = num ** 3\n",
        "\n",
        "print(\"el cuadrado es es: \",cua )\n",
        "print(\"el cubo es: \",cub)"
      ],
      "execution_count": null,
      "outputs": []
    },
    {
      "cell_type": "code",
      "metadata": {
        "colab": {
          "base_uri": "https://localhost:8080/"
        },
        "id": "LLM9xUC_1zID",
        "outputId": "d0e70927-813a-486b-c19d-55dad2f2fb3d"
      },
      "source": [
        "#ejemplo 1.10\n",
        "base=0\n",
        "altura=0\n",
        "area=0\n",
        "per=0\n",
        "\n",
        "base=float(input(\"Ingresa la base\"))\n",
        "altura=float(input(\"Ingresa la altura\"))\n",
        "area=(base*altura)\n",
        "per=(2*base)+(2*altura)\n",
        "\n",
        "print(f\"el área es {area}\")\n",
        "print(f\"el perímetro es {per}\")"
      ],
      "execution_count": 9,
      "outputs": [
        {
          "output_type": "stream",
          "text": [
            "Ingresa la base5\n",
            "Ingresa la altura5\n",
            "el área es 25.0\n",
            "el perímetro es 20.0\n"
          ],
          "name": "stdout"
        }
      ]
    }
  ]
}