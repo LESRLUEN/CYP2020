{
  "nbformat": 4,
  "nbformat_minor": 0,
  "metadata": {
    "colab": {
      "name": "Tarea3.ipynb",
      "provenance": [],
      "authorship_tag": "ABX9TyN5kMpGLQJy1XExipRiWDbj",
      "include_colab_link": true
    },
    "kernelspec": {
      "name": "python3",
      "display_name": "Python 3"
    }
  },
  "cells": [
    {
      "cell_type": "markdown",
      "metadata": {
        "id": "view-in-github",
        "colab_type": "text"
      },
      "source": [
        "<a href=\"https://colab.research.google.com/github/LESRLUEN/CYP2020/blob/main/Tarea3.ipynb\" target=\"_parent\"><img src=\"https://colab.research.google.com/assets/colab-badge.svg\" alt=\"Open In Colab\"/></a>"
      ]
    },
    {
      "cell_type": "code",
      "metadata": {
        "colab": {
          "base_uri": "https://localhost:8080/"
        },
        "id": "v7r36t0Yb_ey",
        "outputId": "5f6e024c-549d-4470-f188-92b6b1745195"
      },
      "source": [
        "#Problema 1.1\n",
        "\n",
        "prepro = 0\n",
        "pago = 0\n",
        "devo = 0\n",
        "\n",
        "prepo = float(input( \"Deme el costo del producto: \"))\n",
        "pago = float(input( \"Deme la cantidad que esta pagando el clinete: \"))\n",
        "\n",
        "devo = pago - prepo\n",
        "\n",
        "print(\"Su cambio es: \", devo)\n"
      ],
      "execution_count": 5,
      "outputs": [
        {
          "output_type": "stream",
          "text": [
            "Deme el costo del producto: 49.20\n",
            "Deme la cantidad que esta pagando el clinete: 100\n",
            "Su cambio es:  50.8\n"
          ],
          "name": "stdout"
        }
      ]
    },
    {
      "cell_type": "code",
      "metadata": {
        "colab": {
          "base_uri": "https://localhost:8080/"
        },
        "id": "EDCZYoWkeYj6",
        "outputId": "9cd9f66c-35fd-459a-a96d-e6ff41e12e33"
      },
      "source": [
        "#Problema 1.2\n",
        "\n",
        "Base = 0\n",
        "Alt = 0\n",
        "Sup = 0\n",
        "\n",
        "Base = float(input(\"Ingrese el valor de la base: \"))\n",
        "Alt = float(input(\"Ingrese el valor de la altura: \"))\n",
        "\n",
        "Sup = (Base * Alt)/2\n",
        "\n",
        "print(\"La superficie del riangulo es: \",Sup)\n"
      ],
      "execution_count": 8,
      "outputs": [
        {
          "output_type": "stream",
          "text": [
            "Ingrese el valor de la base: 120.60\n",
            "Ingrese el valor de la altura: 85.90\n",
            "La superficie del riangulo es:  5179.77\n"
          ],
          "name": "stdout"
        }
      ]
    },
    {
      "cell_type": "code",
      "metadata": {
        "colab": {
          "base_uri": "https://localhost:8080/",
          "height": 129
        },
        "id": "kJPSr6rbgC4S",
        "outputId": "163ec0d6-392c-46c8-99ac-fd80009b7bda"
      },
      "source": [
        "#Problema 1.3\n",
        "\n",
        "Nom = 0\n",
        "Pes = 0\n",
        "Lon = 0\n",
        "PesKil = 0\n",
        "LonMet = 0\n",
        "\n",
        "Nom = input(\"Ingrese el nombre del Dinosaurio: \")\n",
        "Pes = float(input(\"Ingrese el peso del dinosaurio en libras: \"))\n",
        "Lon = float(input(\"Ingrese el tamaño del dinosaurio en pies: \"))\n",
        "\n",
        "PesKil = (Pes * 1000)\n",
        "LonMet = (Lon * 0.3047)\n",
        "\n",
        "print(\"Su dinosaurio es: \", Nom)\n",
        "print(\"Pesa: \",PesKil:,\" Kilos\")\n",
        "print(\"Y mide: \",LonMet:,\" Metros\")\n",
        "\n"
      ],
      "execution_count": 11,
      "outputs": [
        {
          "output_type": "error",
          "ename": "SyntaxError",
          "evalue": "ignored",
          "traceback": [
            "\u001b[0;36m  File \u001b[0;32m\"<ipython-input-11-0019d793f072>\"\u001b[0;36m, line \u001b[0;32m17\u001b[0m\n\u001b[0;31m    print(\"Pesa: \",PesKil:.2f,\" Kilos\")\u001b[0m\n\u001b[0m                         ^\u001b[0m\n\u001b[0;31mSyntaxError\u001b[0m\u001b[0;31m:\u001b[0m invalid syntax\n"
          ]
        }
      ]
    },
    {
      "cell_type": "code",
      "metadata": {
        "colab": {
          "base_uri": "https://localhost:8080/"
        },
        "id": "dCfJ9gdqj85y",
        "outputId": "9646a132-9e03-4010-c98a-5bbcd3ae8ecf"
      },
      "source": [
        "#Problema 1.4\n",
        "\n",
        "Gal = 0\n",
        "Total = 0 \n",
        "\n",
        "Gal = float(input(\"Ingrese cantidad de galones: \"))\n",
        "\n",
        "Total = (Gal*3.785) * 8.20\n",
        "\n",
        "print(\"El costo es de \",Total, \"Pesos\")\n"
      ],
      "execution_count": 20,
      "outputs": [
        {
          "output_type": "stream",
          "text": [
            "Ingrese cantidad de galones: 65\n",
            "El costo es de  2017.405 Pesos\n"
          ],
          "name": "stdout"
        }
      ]
    },
    {
      "cell_type": "code",
      "metadata": {
        "colab": {
          "base_uri": "https://localhost:8080/"
        },
        "id": "yz3lAS-0qOMe",
        "outputId": "33030df0-1671-49ae-b2f9-d34e74dd8bef"
      },
      "source": [
        "#Problema 1.5\n",
        "\n",
        "Radio = 0\n",
        "Altu = 0\n",
        "Pi = 3.141592\n",
        "Vol = 0\n",
        "Area = 0\n",
        "\n",
        "Radio = float(input(\"Ingrese el valor del Radio: \"))\n",
        "Altu = float(input(\"Ingrese el valor de la Altura: \"))\n",
        "\n",
        "Vol = Pi * (Radio ** 2) * Altu\n",
        "Area = 2 * Pi * Radio * Altu \n",
        "\n",
        "print(\"El volumen es: \",Vol)\n",
        "print(\"El area es: \",Area)"
      ],
      "execution_count": 14,
      "outputs": [
        {
          "output_type": "stream",
          "text": [
            "Ingrese el valor del Radio: 125.30\n",
            "Ingrese el valor de la Altura: 117.40\n",
            "El volumen es:  5790552.7366210725\n",
            "El area es:  92427.01894048002\n"
          ],
          "name": "stdout"
        }
      ]
    },
    {
      "cell_type": "code",
      "metadata": {
        "colab": {
          "base_uri": "https://localhost:8080/"
        },
        "id": "7zGOXnmlsogt",
        "outputId": "ff7f2678-2f2c-48f7-faa7-8e2568a42c15"
      },
      "source": [
        "#Problema 1.6\n",
        "\n",
        "Dias = 0\n",
        "Seg = 0\n",
        "\n",
        "Dias = int(input(\"Ingrese el numero de dias en numero entero: \"))\n",
        "\n",
        "Seg = Dias * 24 * 60 * 60\n",
        "\n",
        "print(\"En \",Dias,\"Dias hay\", Seg , \"Segundos\")\n",
        "\n"
      ],
      "execution_count": 17,
      "outputs": [
        {
          "output_type": "stream",
          "text": [
            "Ingrese el numero de dias en numero entero: 3\n",
            "En  3 Dias hay 259200 Segundos\n"
          ],
          "name": "stdout"
        }
      ]
    }
  ]
}