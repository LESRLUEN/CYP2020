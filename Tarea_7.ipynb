{
  "nbformat": 4,
  "nbformat_minor": 0,
  "metadata": {
    "colab": {
      "name": "Tarea_7.ipynb",
      "provenance": [],
      "authorship_tag": "ABX9TyNluaaIPrEK0RcEmJZIE6/R",
      "include_colab_link": true
    },
    "kernelspec": {
      "name": "python3",
      "display_name": "Python 3"
    }
  },
  "cells": [
    {
      "cell_type": "markdown",
      "metadata": {
        "id": "view-in-github",
        "colab_type": "text"
      },
      "source": [
        "<a href=\"https://colab.research.google.com/github/LESRLUEN/CYP2020/blob/main/Tarea_7.ipynb\" target=\"_parent\"><img src=\"https://colab.research.google.com/assets/colab-badge.svg\" alt=\"Open In Colab\"/></a>"
      ]
    },
    {
      "cell_type": "code",
      "metadata": {
        "colab": {
          "base_uri": "https://localhost:8080/"
        },
        "id": "etQkfV7LXy-H",
        "outputId": "4515a9bd-1289-4a83-963d-af400263a7cc"
      },
      "source": [
        "#Problema 4.11_Tarea7\r\n",
        "\r\n",
        "total = int(input(\"¿Cual sera el total de paises que ingresara?: \"))\r\n",
        "\r\n",
        "qnor, qcen, qsur, aux, aux2 = 0, 0, 0, 0, 0\r\n",
        "\r\n",
        "\r\n",
        "\r\n",
        "while True:\r\n",
        "  qnor = int(input(\"¿Cuántos países ingresara para America del Norte?: \"))\r\n",
        "  qcen = int(input(\"¿Cuántos países ingresara para America del Centro?: \"))\r\n",
        "  qsur = int(input(\"¿Cuántos países ingresara para America del Sur?: \"))\r\n",
        "  aux = qnor + qcen + qsur\r\n",
        "\r\n",
        "  if aux == total:\r\n",
        "    break;\r\n",
        "  elif aux < total:\r\n",
        "    print(\"La cantidad de países ingresada por regiones es menor a la total.\")\r\n",
        "  elif aux > total:\r\n",
        "    print(\"La cantidad de países ingresada por regiones es mayor a la total.\")\r\n",
        "\r\n",
        "lpaises = [\"Norte\", \"Centro\", \"Sur\"]\r\n",
        "aux = 0\r\n",
        "pnorte = [str(0) for x in range(qnor)]\r\n",
        "pcentro = [str(0) for x in range(qcen)]\r\n",
        "psur = [str(0) for x in range(qsur)]\r\n",
        "ptotal = [str(0) for x in range(total)]\r\n",
        "\r\n",
        "for i in range(total):\r\n",
        "  ptotal[i] = str(input(f\"Ingresa el nombre del país num.{aux+1} para la región del {lpaises[aux2]} de América: \"))\r\n",
        "  aux += 1\r\n",
        "  if aux2 == 0:\r\n",
        "    if aux >= qnor:\r\n",
        "      aux = 0\r\n",
        "      aux2 = 1\r\n",
        "    pnorte[aux] = ptotal[i]\r\n",
        "  elif aux2 == 1:\r\n",
        "    if aux >= qcen:\r\n",
        "      aux = 0\r\n",
        "      aux2 = 2\r\n",
        "    pcentro[aux] = ptotal[i]\r\n",
        "  elif aux2 == 2:\r\n",
        "    if aux >= qsur:\r\n",
        "      aux = 0\r\n",
        "    psur[aux] = ptotal[i]\r\n",
        "\r\n",
        "print(f\"Norte: {sorted(pnorte)}\")\r\n",
        "print(f\"Centro: {sorted(pcentro)}\")\r\n",
        "print(f\"Sur: {sorted(psur)}\")\r\n",
        "print(f\"Todos: {sorted(ptotal)}\")"
      ],
      "execution_count": 1,
      "outputs": [
        {
          "output_type": "stream",
          "text": [
            "¿Cual sera el total de paises que ingresara?: 6\n",
            "¿Cuántos países ingresara para America del Norte?: 2\n",
            "¿Cuántos países ingresara para America del Centro?: 4\n",
            "¿Cuántos países ingresara para America del Sur?: 2\n",
            "La cantidad de países ingresada por regiones es mayor a la total.\n",
            "¿Cuántos países ingresara para America del Norte?: 1\n",
            "¿Cuántos países ingresara para America del Centro?: 1\n",
            "¿Cuántos países ingresara para America del Sur?: 1\n",
            "La cantidad de países ingresada por regiones es menor a la total.\n",
            "¿Cuántos países ingresara para America del Norte?: 2\n",
            "¿Cuántos países ingresara para America del Centro?: 2\n",
            "¿Cuántos países ingresara para America del Sur?: 2\n",
            "Ingresa el nombre del país num.1 para la región del Norte de América: estados unidos\n",
            "Ingresa el nombre del país num.2 para la región del Norte de América: canada\n",
            "Ingresa el nombre del país num.1 para la región del Centro de América: belice\n",
            "Ingresa el nombre del país num.2 para la región del Centro de América: uruguay\n",
            "Ingresa el nombre del país num.1 para la región del Sur de América: santiago de chile\n",
            "Ingresa el nombre del país num.2 para la región del Sur de América: argentina\n",
            "Norte: ['canada', 'estados unidos']\n",
            "Centro: ['belice', 'uruguay']\n",
            "Sur: ['argentina', 'santiago de chile']\n",
            "Todos: ['argentina', 'belice', 'canada', 'estados unidos', 'santiago de chile', 'uruguay']\n"
          ],
          "name": "stdout"
        }
      ]
    }
  ]
}