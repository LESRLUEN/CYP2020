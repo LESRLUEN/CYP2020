{
  "nbformat": 4,
  "nbformat_minor": 0,
  "metadata": {
    "colab": {
      "name": "03_DIC_2020.ipynb",
      "provenance": [],
      "authorship_tag": "ABX9TyOZq11GNTQj3NrrPKQW0iyi",
      "include_colab_link": true
    },
    "kernelspec": {
      "name": "python3",
      "display_name": "Python 3"
    }
  },
  "cells": [
    {
      "cell_type": "markdown",
      "metadata": {
        "id": "view-in-github",
        "colab_type": "text"
      },
      "source": [
        "<a href=\"https://colab.research.google.com/github/LESRLUEN/CYP2020/blob/main/03_DIC_2020.ipynb\" target=\"_parent\"><img src=\"https://colab.research.google.com/assets/colab-badge.svg\" alt=\"Open In Colab\"/></a>"
      ]
    },
    {
      "cell_type": "code",
      "metadata": {
        "colab": {
          "base_uri": "https://localhost:8080/"
        },
        "id": "Vsirl2FOnIb-",
        "outputId": "79c1db23-f578-4265-e5d9-d322832ef7dc"
      },
      "source": [
        "#Ejemplo 1\n",
        "for i in[1,2,3,5]:\n",
        "  print(f\"El elemento: {i}\")"
      ],
      "execution_count": 6,
      "outputs": [
        {
          "output_type": "stream",
          "text": [
            "El elemento: 1\n",
            "El elemento: 2\n",
            "El elemento: 3\n",
            "El elemento: 5\n"
          ],
          "name": "stdout"
        }
      ]
    },
    {
      "cell_type": "code",
      "metadata": {
        "colab": {
          "base_uri": "https://localhost:8080/"
        },
        "id": "EhRxbBA-n62-",
        "outputId": "6c9d7ada-59e5-4caf-fa9b-9404fbcba8d6"
      },
      "source": [
        "#Ejemplo 2\n",
        "coleccion={\"Mario\":20,\"Mariana\":19,\"Yessica\":14,\"Luis\":18}\n",
        "for i in coleccion:\n",
        "  print(f\"Elemento:{i}\")"
      ],
      "execution_count": 3,
      "outputs": [
        {
          "output_type": "stream",
          "text": [
            "Elemento:Mario\n",
            "Elemento:Mariana\n",
            "Elemento:Yessica\n",
            "Elemento:Luis\n"
          ],
          "name": "stdout"
        }
      ]
    },
    {
      "cell_type": "code",
      "metadata": {
        "colab": {
          "base_uri": "https://localhost:8080/"
        },
        "id": "5oEtw4GGpc_N",
        "outputId": "12e776ce-85c3-47be-9d7b-e8f67fa09633"
      },
      "source": [
        "coleccion={\"Mario\":20,\"Mariana\":19,\"Yessica\":14,\"Luis\":18}\n",
        "for i in coleccion:\n",
        "  print(f\"{coleccion[i]}\")"
      ],
      "execution_count": 4,
      "outputs": [
        {
          "output_type": "stream",
          "text": [
            "20\n",
            "19\n",
            "14\n",
            "18\n"
          ],
          "name": "stdout"
        }
      ]
    },
    {
      "cell_type": "code",
      "metadata": {
        "colab": {
          "base_uri": "https://localhost:8080/"
        },
        "id": "nKD19co1qJFU",
        "outputId": "e6ebd62e-72e8-4be5-eddd-77ac2f10c2fa"
      },
      "source": [
        "coleccion={\"Mario\":20,\"Mariana\":19,\"Yessica\":14,\"Luis\":18}\n",
        "for i in coleccion:\n",
        "  print(f\"{i}->{coleccion[i]}\")"
      ],
      "execution_count": 5,
      "outputs": [
        {
          "output_type": "stream",
          "text": [
            "Mario->20\n",
            "Mariana->19\n",
            "Yessica->14\n",
            "Luis->18\n"
          ],
          "name": "stdout"
        }
      ]
    },
    {
      "cell_type": "code",
      "metadata": {
        "colab": {
          "base_uri": "https://localhost:8080/"
        },
        "id": "W7iUPg-5teec",
        "outputId": "a6284610-61d0-49e0-bbe5-d15d98a92a1b"
      },
      "source": [
        "#Ejemplo 3\n",
        "\n",
        "email=False\n",
        "for i in\"luen@unam.mx\":\n",
        "  if(i==\"@\"):\n",
        "    email=True\n",
        "if email== True:\n",
        "  print(\"El email es correcto\")\n",
        "\n",
        "else:\n",
        "  print(\"El correo no es correcto\")"
      ],
      "execution_count": 10,
      "outputs": [
        {
          "output_type": "stream",
          "text": [
            "El email es correcto\n"
          ],
          "name": "stdout"
        }
      ]
    },
    {
      "cell_type": "code",
      "metadata": {
        "colab": {
          "base_uri": "https://localhost:8080/"
        },
        "id": "ZXvNuW9VwTEu",
        "outputId": "76199483-b786-4520-d8e2-3ab18e95b85c"
      },
      "source": [
        "#For-range\n",
        "for i in range(5):\n",
        "  print(f\"valor de la variable{i}\")"
      ],
      "execution_count": 7,
      "outputs": [
        {
          "output_type": "stream",
          "text": [
            "valor de la variable0\n",
            "valor de la variable1\n",
            "valor de la variable2\n",
            "valor de la variable3\n",
            "valor de la variable4\n"
          ],
          "name": "stdout"
        }
      ]
    },
    {
      "cell_type": "code",
      "metadata": {
        "colab": {
          "base_uri": "https://localhost:8080/"
        },
        "id": "M6SkNmEA8r5r",
        "outputId": "59be6b90-ed5b-49f8-8114-17a965be3a07"
      },
      "source": [
        "for i in range (5):\n",
        "  print(i)"
      ],
      "execution_count": 8,
      "outputs": [
        {
          "output_type": "stream",
          "text": [
            "0\n",
            "1\n",
            "2\n",
            "3\n",
            "4\n"
          ],
          "name": "stdout"
        }
      ]
    },
    {
      "cell_type": "code",
      "metadata": {
        "colab": {
          "base_uri": "https://localhost:8080/"
        },
        "id": "MPLv8JM582qv",
        "outputId": "11f67a78-d786-4632-dc5f-5efceca995a4"
      },
      "source": [
        "for i in range (20):\n",
        "  print(f\"valor de la variable {i}\")"
      ],
      "execution_count": 11,
      "outputs": [
        {
          "output_type": "stream",
          "text": [
            "valor de la variable 0\n",
            "valor de la variable 1\n",
            "valor de la variable 2\n",
            "valor de la variable 3\n",
            "valor de la variable 4\n",
            "valor de la variable 5\n",
            "valor de la variable 6\n",
            "valor de la variable 7\n",
            "valor de la variable 8\n",
            "valor de la variable 9\n",
            "valor de la variable 10\n",
            "valor de la variable 11\n",
            "valor de la variable 12\n",
            "valor de la variable 13\n",
            "valor de la variable 14\n",
            "valor de la variable 15\n",
            "valor de la variable 16\n",
            "valor de la variable 17\n",
            "valor de la variable 18\n",
            "valor de la variable 19\n"
          ],
          "name": "stdout"
        }
      ]
    },
    {
      "cell_type": "code",
      "metadata": {
        "colab": {
          "base_uri": "https://localhost:8080/"
        },
        "id": "R-09lOQ889Is",
        "outputId": "0a13545c-ea86-4276-c95a-b40d1255fe4d"
      },
      "source": [
        "#While\n",
        "edad=int(input(\"Intoduce tu edad:\"))\n",
        "while edad <0:\n",
        "  print(\"has intriducido una edad negativa.Intentalo de nuevo\")\n",
        "  edad=int(input(\"Introduce tu edad:\"))\n",
        "print(\"Gracias por participar, puedes pasar\")\n",
        "print(\"Edad del concursante \"+str(edad))"
      ],
      "execution_count": 12,
      "outputs": [
        {
          "output_type": "stream",
          "text": [
            "Intoduce tu edad:23\n",
            "Gracias por participar, puedes pasar\n",
            "Edad del concursante 23\n"
          ],
          "name": "stdout"
        }
      ]
    }
  ]
}