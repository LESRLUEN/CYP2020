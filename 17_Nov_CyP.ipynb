{
  "nbformat": 4,
  "nbformat_minor": 0,
  "metadata": {
    "colab": {
      "name": "17_Nov_CyP.ipynb",
      "provenance": [],
      "collapsed_sections": [],
      "authorship_tag": "ABX9TyMZJuEo3nNc4O30TMFCovB+",
      "include_colab_link": true
    },
    "kernelspec": {
      "name": "python3",
      "display_name": "Python 3"
    }
  },
  "cells": [
    {
      "cell_type": "markdown",
      "metadata": {
        "id": "view-in-github",
        "colab_type": "text"
      },
      "source": [
        "<a href=\"https://colab.research.google.com/github/LESRLUEN/CYP2020/blob/main/17_Nov_CyP.ipynb\" target=\"_parent\"><img src=\"https://colab.research.google.com/assets/colab-badge.svg\" alt=\"Open In Colab\"/></a>"
      ]
    },
    {
      "cell_type": "code",
      "metadata": {
        "colab": {
          "base_uri": "https://localhost:8080/"
        },
        "id": "7nt-8wlITPx1",
        "outputId": "9ce6b1b6-edb9-415f-9991-75cdbb21a395"
      },
      "source": [
        "edad = 15\n",
        "estatura = 1.67 \n",
        "a = 10\n",
        "b = 3\n",
        "\n",
        "c = 2 ** b +2 +3 +4\n",
        "\n",
        "print(c)\n",
        "\n",
        "e = estatura * 2.0\n",
        "\n",
        "print(e)\n",
        "\n",
        "f = a / b #en python se hace el calculo exacto\n",
        "\n",
        "print(f) #3.33333\n",
        "\n",
        "#tambien podemos forzar el calculo de enteros\n",
        "g = a // b\n",
        "print(\"g= \",g)\n",
        "\n",
        "h = a % b\n",
        "print(\"h= \", h)\n",
        "\n",
        "num = 10\n",
        "\n",
        "print(\"es par num ? \", (num * 2 == 0))"
      ],
      "execution_count": 4,
      "outputs": [
        {
          "output_type": "stream",
          "text": [
            "17\n",
            "3.34\n",
            "3.3333333333333335\n",
            "g=  3\n",
            "h=  1\n",
            "es par num ?  False\n"
          ],
          "name": "stdout"
        }
      ]
    },
    {
      "cell_type": "code",
      "metadata": {
        "colab": {
          "base_uri": "https://localhost:8080/"
        },
        "id": "QzsGH8aiahTV",
        "outputId": "661922d2-ada0-4a40-d60b-c29e9bddee43"
      },
      "source": [
        "ecuacion = 9 + 7 * 8 - 36 / 5\n",
        "print(ecuacion)\n",
        "\n",
        "ecuacion = 0\n",
        "ecuacion = (9 + 7) * 8 - 36 / 5\n",
        "print(ecuacion)\n",
        "\n",
        "ecuacion = 9 + 7 * (8 - 36) / 5\n",
        "print(ecuacion)"
      ],
      "execution_count": 6,
      "outputs": [
        {
          "output_type": "stream",
          "text": [
            "57.8\n",
            "120.8\n",
            "-30.200000000000003\n"
          ],
          "name": "stdout"
        }
      ]
    },
    {
      "cell_type": "code",
      "metadata": {
        "colab": {
          "base_uri": "https://localhost:8080/"
        },
        "id": "0jCL-3uFb-BI",
        "outputId": "07fb3e75-20bc-40b8-cbb4-0002efb446ec"
      },
      "source": [
        "#Operadores Logicos\n",
        "valor = (4 == 4) #True\n",
        "print(valor)\n",
        "\n",
        "x = 5\n",
        "y = 4\n",
        "\n",
        "valor = (x == y) #Son iguales ?? --> Falso\n",
        "\n",
        "print(valor)\n",
        "\n",
        "valor = (x != y) #Son diferentes?? --> Verdadero\n",
        "print(valor)\n",
        "\n",
        "valor = (x < y)#X es MAYOR que y?? Falso\n",
        "print(valor)\n",
        "\n",
        "valor = (x > y) #X es MAYOR que Y?? Falso\n",
        "print(valor)\n",
        "\n",
        "y = 5\n",
        "\n",
        "valor = (x <= y) #X es menor o igual que y?? True\n",
        "print(valor)\n",
        "\n",
        "valor = (x>= y) #X es mayor o igual que y?? True\n",
        "print(valor)"
      ],
      "execution_count": 8,
      "outputs": [
        {
          "output_type": "stream",
          "text": [
            "True\n",
            "False\n",
            "True\n",
            "False\n",
            "True\n",
            "True\n",
            "True\n"
          ],
          "name": "stdout"
        }
      ]
    },
    {
      "cell_type": "code",
      "metadata": {
        "colab": {
          "base_uri": "https://localhost:8080/"
        },
        "id": "g7r9rK-ffmzj",
        "outputId": "617c249f-5673-47fc-faa2-1427648e8cb7"
      },
      "source": [
        "costo_chetos = 7.0\n",
        "tienda_abierta = True\n",
        "capital_en_bolsa = 10.0\n",
        "\n",
        "se_compra = (costo_chetos < capital_en_bolsa) and (tienda_abierta == True)\n",
        "print(se_compra)"
      ],
      "execution_count": 9,
      "outputs": [
        {
          "output_type": "stream",
          "text": [
            "True\n"
          ],
          "name": "stdout"
        }
      ]
    }
  ]
}