{
  "nbformat": 4,
  "nbformat_minor": 0,
  "metadata": {
    "colab": {
      "name": "01_DIC_2020.ipynb",
      "provenance": [],
      "authorship_tag": "ABX9TyNd/RdM8lR91UsP4KiA2m6V",
      "include_colab_link": true
    },
    "kernelspec": {
      "name": "python3",
      "display_name": "Python 3"
    }
  },
  "cells": [
    {
      "cell_type": "markdown",
      "metadata": {
        "id": "view-in-github",
        "colab_type": "text"
      },
      "source": [
        "<a href=\"https://colab.research.google.com/github/LESRLUEN/CYP2020/blob/main/01_DIC_2020.ipynb\" target=\"_parent\"><img src=\"https://colab.research.google.com/assets/colab-badge.svg\" alt=\"Open In Colab\"/></a>"
      ]
    },
    {
      "cell_type": "code",
      "metadata": {
        "colab": {
          "base_uri": "https://localhost:8080/"
        },
        "id": "FCoRgHGFTJNU",
        "outputId": "df6ab4f3-53c5-4777-f92f-1e868f776072"
      },
      "source": [
        "#Ejercicio 1. Pedir tres núemros enteros y mostrar el mayor de los tres\n",
        "\n",
        "numero1 = int(input(\"Introduce el primer número: \"))\n",
        "numero2 = int(input(\"Introduce el segundo número: \"))\n",
        "numero3 = int(input(\"Introduce el tercer número: \"))\n",
        "\n",
        "if numero1 >= numero2 and numero1 >= numero3:\n",
        "  print(numero1,\"es el mayor\")\n",
        "\n",
        "elif numero2 >= numero1 and numero2 >= numero3:\n",
        "  print(numero2, \"es el mayor\") \n",
        "\n",
        "else: \n",
        "  print(numero3,\"es el mayor\")"
      ],
      "execution_count": 16,
      "outputs": [
        {
          "output_type": "stream",
          "text": [
            "Introduce el primer número: 9\n",
            "Introduce el segundo número: 5\n",
            "Introduce el tercer número: 1\n",
            "9 es el mayor\n"
          ],
          "name": "stdout"
        }
      ]
    },
    {
      "cell_type": "code",
      "metadata": {
        "colab": {
          "base_uri": "https://localhost:8080/"
        },
        "id": "KI3tq3J_Vnmh",
        "outputId": "3c4c0ed9-740c-4131-a8c3-3089eaccb8d0"
      },
      "source": [
        "#Ejemplo2\n",
        "print(\"Ingrese el nombre del trabajador\")\n",
        "nombre = input()\n",
        "print(\"Cuantas horas trabajo esta semana\", nombre,\":\")\n",
        "horas = float(input())\n",
        "print(\"¿Cuanto se paga por hora?:\")\n",
        "sueldoH=float(input())\n",
        "\n",
        "#Evaluar el sueldo\n",
        "\n",
        "if(horas < 40):\n",
        "  pago=horas * sueldoH\n",
        "  print(\"El sueldo final de \", nombre, \"Es $\", pago)\n",
        "\n",
        "else:\n",
        "  extras=horas-40\n",
        "  pago=40 * sueldoH\n",
        "  pagoFinal=pago + ((extras * sueldoH)*2)\n",
        "  print(\"El sueldo final de\",nombre , \"es $\", pagoFinal)"
      ],
      "execution_count": 7,
      "outputs": [
        {
          "output_type": "stream",
          "text": [
            "Ingrese el nombre del trabajador\n",
            "luen\n",
            "Cuantas horas trabajo esta semana luen :\n",
            "50\n",
            "¿Cuanto se paga por hora?:\n",
            "19\n",
            "El sueldo final de luen es $ 1140.0\n"
          ],
          "name": "stdout"
        }
      ]
    },
    {
      "cell_type": "code",
      "metadata": {
        "colab": {
          "base_uri": "https://localhost:8080/"
        },
        "id": "jdY9H5cHdmDn",
        "outputId": "e6214351-1a04-48cd-a5a6-8de46ac968ac"
      },
      "source": [
        "#Ejemplo 3\n",
        "#Calcular el salario semanal de x trabajador\n",
        "#El salario semanal se calcula en base a las horas semanales trabajadas\n",
        "#El pago por hora es variable (se pide por teclado)\n",
        "#Si las horas trabajadas superan las 40 horas, el pago por hora extra es:\n",
        "#Doble en el rango de 41horas a 50horas\n",
        "#Triple en el rango de 51horas a 60 horas\n",
        "#Incentivo de $2000 si rebasa las 60 horas.\n",
        "\n",
        "print(\"ingrese el nombre del trabajador\")\n",
        "nombre=input()\n",
        "print(\"Cuantas horas trabajo esta semana\", nombre, \": \")\n",
        "horas=int(input())\n",
        "print(\"Cuanto se paga por hora?: \")\n",
        "sueldoH=int(input())\n",
        "suledo=float(sueldoH)\n",
        "\n",
        "#evaluar el sueldo\n",
        "\n",
        "if (horas<=40):\n",
        "  pago=horas * sueldoH\n",
        "  print(\"El sueldo final de\" ,nombre , \"Es $\", pago)\n",
        "\n",
        "elif (horas > 40 and horas <= 50):\n",
        "  extrasDobles=horas-40\n",
        "  print(\"Horas extras dobles\", extrasDobles)\n",
        "  pago=40 * sueldoH\n",
        "  print(\"sueldo base:$\" , pago)\n",
        "  pagoDoble= extrasDoble * sueldoH *2\n",
        "  print(\"pago en horas dobles:$\" ,pagoDoble)\n",
        "  pagoFinal= pago +pagoDoble\n",
        "  print(\"El sueldo final de:\" ,nombre ,\"Es $\", pagoFinal)\n",
        "\n",
        "elif (horas >50 and horas <=60):\n",
        "  extrasTriples=horas-50\n",
        "  print(\"horas extra dobles:10\")\n",
        "  print(\"horas extra triples:\",extrasTriples)\n",
        "  pago= 40* sueldoH\n",
        "  print(\"sueldo base:$\", pago)\n",
        "  pagoDoble=10*sueldoH*2\n",
        "  print(\"pago de horas extras dobles:\", pagoDoble)\n",
        "  pagoTriple=extrasTriples * sueldoH*3\n",
        "  print(\"pago de horas extra triples:\", pagoTriple)\n",
        "  print(\"Incentivo por trabajar más de 60 horas:$ $2000\")\n",
        "  pagoFinal= pago+pagoDoble+pagoTriple+2000\n",
        "  print(\"El sueldo Final de : \" ,nombre , \"Es $\", pagoFinal)"
      ],
      "execution_count": 15,
      "outputs": [
        {
          "output_type": "stream",
          "text": [
            "ingrese el nombre del trabajador\n",
            "lu\n",
            "Cuantas horas trabajo esta semana lu : \n",
            "60\n",
            "Cuanto se paga por hora?: \n",
            "19\n",
            "horas extra dobles:10\n",
            "horas extra triples: 10\n",
            "sueldo base:$ 760\n",
            "pago de horas extras dobles: 380\n",
            "pago de horas extra triples: 570\n",
            "Incentivo por trabajar más de 60 horas:$ $2000\n",
            "El sueldo Final de :  lu Es $ 3710\n"
          ],
          "name": "stdout"
        }
      ]
    },
    {
      "cell_type": "code",
      "metadata": {
        "id": "e603CjQHrbiO"
      },
      "source": [
        "#Estructura FOR\n",
        "\n",
        "  #Ejemplo1\n",
        "for estaciones_año in [\"primavera\",\"verano\",\"otoño\",\"invierno\",\"venus\"]:\n",
        "  print(estaciones_año)\n",
        "\n",
        "#variables que suelen formar parte de FOR son \"i\""
      ],
      "execution_count": null,
      "outputs": []
    }
  ]
}